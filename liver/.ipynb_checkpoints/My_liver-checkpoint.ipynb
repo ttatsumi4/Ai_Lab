{
 "cells": [
  {
   "cell_type": "markdown",
   "id": "284d650f",
   "metadata": {},
   "source": [
    "# 検診データによる肝疾患判定"
   ]
  },
  {
   "cell_type": "code",
   "execution_count": 1,
   "id": "08b382d2",
   "metadata": {},
   "outputs": [
    {
     "name": "stdout",
     "output_type": "stream",
     "text": [
      "Data Shapes\n",
      "Train: (891, 12) Test: (383, 11) Sample: (382, 2)\n"
     ]
    }
   ],
   "source": [
    "import pandas as pd\n",
    "import numpy as np\n",
    "\n",
    "train = pd.read_csv(\"./train.csv\")\n",
    "test = pd.read_csv(\"./test2.csv\")\n",
    "sample = pd.read_csv(\"./sample_submit.csv\",header=None)\n",
    "print(\"Data Shapes\")\n",
    "print(\"Train:\",train.shape, \"Test:\",test.shape, \"Sample:\",sample.shape)"
   ]
  },
  {
   "cell_type": "markdown",
   "id": "e4188886",
   "metadata": {},
   "source": [
    "### データセットの調査"
   ]
  },
  {
   "cell_type": "code",
   "execution_count": 2,
   "id": "3a774146",
   "metadata": {},
   "outputs": [
    {
     "name": "stdout",
     "output_type": "stream",
     "text": [
      "id          0\n",
      "Age         0\n",
      "Gender      0\n",
      "T_Bil       0\n",
      "D_Bil       0\n",
      "ALP         0\n",
      "ALT_GPT     0\n",
      "AST_GOT     0\n",
      "TP          0\n",
      "Alb         0\n",
      "AG_ratio    4\n",
      "disease     0\n",
      "dtype: int64\n",
      "\n",
      "id          0\n",
      "Age         0\n",
      "Gender      0\n",
      "T_Bil       0\n",
      "D_Bil       0\n",
      "ALP         0\n",
      "ALT_GPT     0\n",
      "AST_GOT     0\n",
      "TP          0\n",
      "Alb         0\n",
      "AG_ratio    0\n",
      "dtype: int64\n"
     ]
    }
   ],
   "source": [
    "print(train.isnull().sum())\n",
    "print()\n",
    "print(test.isnull().sum())"
   ]
  },
  {
   "cell_type": "code",
   "execution_count": 3,
   "id": "03c9b786",
   "metadata": {},
   "outputs": [
    {
     "name": "stdout",
     "output_type": "stream",
     "text": [
      "id          0\n",
      "Age         0\n",
      "Gender      0\n",
      "T_Bil       0\n",
      "D_Bil       0\n",
      "ALP         0\n",
      "ALT_GPT     0\n",
      "AST_GOT     0\n",
      "TP          0\n",
      "Alb         0\n",
      "AG_ratio    0\n",
      "disease     0\n",
      "dtype: int64\n"
     ]
    }
   ],
   "source": [
    "#欠損データを平均値で補填\n",
    "train['AG_ratio'] = train['AG_ratio'].fillna(train['AG_ratio'].mean())\n",
    "print(train.isnull().sum())"
   ]
  },
  {
   "cell_type": "code",
   "execution_count": 4,
   "id": "161bb0d7",
   "metadata": {},
   "outputs": [],
   "source": [
    "#性別をOne-Hot表現に変更する\n",
    "train = pd.get_dummies(train)\n",
    "test = pd.get_dummies(test)"
   ]
  },
  {
   "cell_type": "code",
   "execution_count": 5,
   "id": "9a53de2e",
   "metadata": {},
   "outputs": [
    {
     "data": {
      "text/html": [
       "<div>\n",
       "<style scoped>\n",
       "    .dataframe tbody tr th:only-of-type {\n",
       "        vertical-align: middle;\n",
       "    }\n",
       "\n",
       "    .dataframe tbody tr th {\n",
       "        vertical-align: top;\n",
       "    }\n",
       "\n",
       "    .dataframe thead th {\n",
       "        text-align: right;\n",
       "    }\n",
       "</style>\n",
       "<table border=\"1\" class=\"dataframe\">\n",
       "  <thead>\n",
       "    <tr style=\"text-align: right;\">\n",
       "      <th></th>\n",
       "      <th>id</th>\n",
       "      <th>Age</th>\n",
       "      <th>T_Bil</th>\n",
       "      <th>D_Bil</th>\n",
       "      <th>ALP</th>\n",
       "      <th>ALT_GPT</th>\n",
       "      <th>AST_GOT</th>\n",
       "      <th>TP</th>\n",
       "      <th>Alb</th>\n",
       "      <th>AG_ratio</th>\n",
       "      <th>disease</th>\n",
       "      <th>Gender_Female</th>\n",
       "      <th>Gender_Male</th>\n",
       "    </tr>\n",
       "  </thead>\n",
       "  <tbody>\n",
       "    <tr>\n",
       "      <th>0</th>\n",
       "      <td>0</td>\n",
       "      <td>60</td>\n",
       "      <td>2.9</td>\n",
       "      <td>1.3</td>\n",
       "      <td>170.9</td>\n",
       "      <td>42.1</td>\n",
       "      <td>37.1</td>\n",
       "      <td>5.5</td>\n",
       "      <td>2.9</td>\n",
       "      <td>1.01</td>\n",
       "      <td>1</td>\n",
       "      <td>0</td>\n",
       "      <td>1</td>\n",
       "    </tr>\n",
       "    <tr>\n",
       "      <th>1</th>\n",
       "      <td>1</td>\n",
       "      <td>28</td>\n",
       "      <td>0.7</td>\n",
       "      <td>0.1</td>\n",
       "      <td>158.8</td>\n",
       "      <td>26.0</td>\n",
       "      <td>23.9</td>\n",
       "      <td>6.4</td>\n",
       "      <td>3.7</td>\n",
       "      <td>1.36</td>\n",
       "      <td>0</td>\n",
       "      <td>1</td>\n",
       "      <td>0</td>\n",
       "    </tr>\n",
       "    <tr>\n",
       "      <th>2</th>\n",
       "      <td>2</td>\n",
       "      <td>60</td>\n",
       "      <td>23.1</td>\n",
       "      <td>12.5</td>\n",
       "      <td>962.0</td>\n",
       "      <td>53.0</td>\n",
       "      <td>40.9</td>\n",
       "      <td>6.8</td>\n",
       "      <td>3.3</td>\n",
       "      <td>0.96</td>\n",
       "      <td>1</td>\n",
       "      <td>0</td>\n",
       "      <td>1</td>\n",
       "    </tr>\n",
       "    <tr>\n",
       "      <th>3</th>\n",
       "      <td>3</td>\n",
       "      <td>20</td>\n",
       "      <td>1.0</td>\n",
       "      <td>0.5</td>\n",
       "      <td>415.9</td>\n",
       "      <td>33.9</td>\n",
       "      <td>39.0</td>\n",
       "      <td>7.0</td>\n",
       "      <td>3.8</td>\n",
       "      <td>1.31</td>\n",
       "      <td>0</td>\n",
       "      <td>0</td>\n",
       "      <td>1</td>\n",
       "    </tr>\n",
       "    <tr>\n",
       "      <th>4</th>\n",
       "      <td>4</td>\n",
       "      <td>44</td>\n",
       "      <td>0.6</td>\n",
       "      <td>0.3</td>\n",
       "      <td>152.9</td>\n",
       "      <td>40.9</td>\n",
       "      <td>42.0</td>\n",
       "      <td>4.5</td>\n",
       "      <td>2.1</td>\n",
       "      <td>1.04</td>\n",
       "      <td>0</td>\n",
       "      <td>1</td>\n",
       "      <td>0</td>\n",
       "    </tr>\n",
       "  </tbody>\n",
       "</table>\n",
       "</div>"
      ],
      "text/plain": [
       "   id  Age  T_Bil  D_Bil    ALP  ALT_GPT  AST_GOT   TP  Alb  AG_ratio  \\\n",
       "0   0   60    2.9    1.3  170.9     42.1     37.1  5.5  2.9      1.01   \n",
       "1   1   28    0.7    0.1  158.8     26.0     23.9  6.4  3.7      1.36   \n",
       "2   2   60   23.1   12.5  962.0     53.0     40.9  6.8  3.3      0.96   \n",
       "3   3   20    1.0    0.5  415.9     33.9     39.0  7.0  3.8      1.31   \n",
       "4   4   44    0.6    0.3  152.9     40.9     42.0  4.5  2.1      1.04   \n",
       "\n",
       "   disease  Gender_Female  Gender_Male  \n",
       "0        1              0            1  \n",
       "1        0              1            0  \n",
       "2        1              0            1  \n",
       "3        0              0            1  \n",
       "4        0              1            0  "
      ]
     },
     "execution_count": 5,
     "metadata": {},
     "output_type": "execute_result"
    }
   ],
   "source": [
    "train.head()"
   ]
  },
  {
   "cell_type": "code",
   "execution_count": 6,
   "id": "96eae9f8",
   "metadata": {},
   "outputs": [
    {
     "data": {
      "text/html": [
       "<div>\n",
       "<style scoped>\n",
       "    .dataframe tbody tr th:only-of-type {\n",
       "        vertical-align: middle;\n",
       "    }\n",
       "\n",
       "    .dataframe tbody tr th {\n",
       "        vertical-align: top;\n",
       "    }\n",
       "\n",
       "    .dataframe thead th {\n",
       "        text-align: right;\n",
       "    }\n",
       "</style>\n",
       "<table border=\"1\" class=\"dataframe\">\n",
       "  <thead>\n",
       "    <tr style=\"text-align: right;\">\n",
       "      <th></th>\n",
       "      <th>id</th>\n",
       "      <th>Age</th>\n",
       "      <th>T_Bil</th>\n",
       "      <th>D_Bil</th>\n",
       "      <th>ALP</th>\n",
       "      <th>ALT_GPT</th>\n",
       "      <th>AST_GOT</th>\n",
       "      <th>TP</th>\n",
       "      <th>Alb</th>\n",
       "      <th>AG_ratio</th>\n",
       "      <th>Gender_Female</th>\n",
       "      <th>Gender_Male</th>\n",
       "    </tr>\n",
       "  </thead>\n",
       "  <tbody>\n",
       "    <tr>\n",
       "      <th>0</th>\n",
       "      <td>890</td>\n",
       "      <td>61</td>\n",
       "      <td>1.3</td>\n",
       "      <td>0.2</td>\n",
       "      <td>69.0</td>\n",
       "      <td>26.0</td>\n",
       "      <td>28.0</td>\n",
       "      <td>7.0</td>\n",
       "      <td>4.5</td>\n",
       "      <td>1.80</td>\n",
       "      <td>0</td>\n",
       "      <td>1</td>\n",
       "    </tr>\n",
       "    <tr>\n",
       "      <th>1</th>\n",
       "      <td>891</td>\n",
       "      <td>65</td>\n",
       "      <td>0.7</td>\n",
       "      <td>0.2</td>\n",
       "      <td>162.0</td>\n",
       "      <td>24.0</td>\n",
       "      <td>20.0</td>\n",
       "      <td>6.4</td>\n",
       "      <td>3.3</td>\n",
       "      <td>0.93</td>\n",
       "      <td>1</td>\n",
       "      <td>0</td>\n",
       "    </tr>\n",
       "    <tr>\n",
       "      <th>2</th>\n",
       "      <td>892</td>\n",
       "      <td>46</td>\n",
       "      <td>1.2</td>\n",
       "      <td>0.3</td>\n",
       "      <td>265.1</td>\n",
       "      <td>40.0</td>\n",
       "      <td>28.0</td>\n",
       "      <td>7.9</td>\n",
       "      <td>3.8</td>\n",
       "      <td>0.94</td>\n",
       "      <td>0</td>\n",
       "      <td>1</td>\n",
       "    </tr>\n",
       "    <tr>\n",
       "      <th>3</th>\n",
       "      <td>893</td>\n",
       "      <td>26</td>\n",
       "      <td>0.7</td>\n",
       "      <td>0.1</td>\n",
       "      <td>243.1</td>\n",
       "      <td>21.1</td>\n",
       "      <td>22.9</td>\n",
       "      <td>5.3</td>\n",
       "      <td>2.2</td>\n",
       "      <td>0.60</td>\n",
       "      <td>0</td>\n",
       "      <td>1</td>\n",
       "    </tr>\n",
       "    <tr>\n",
       "      <th>4</th>\n",
       "      <td>894</td>\n",
       "      <td>38</td>\n",
       "      <td>3.5</td>\n",
       "      <td>1.7</td>\n",
       "      <td>253.0</td>\n",
       "      <td>80.0</td>\n",
       "      <td>406.0</td>\n",
       "      <td>6.8</td>\n",
       "      <td>3.7</td>\n",
       "      <td>1.33</td>\n",
       "      <td>0</td>\n",
       "      <td>1</td>\n",
       "    </tr>\n",
       "  </tbody>\n",
       "</table>\n",
       "</div>"
      ],
      "text/plain": [
       "    id  Age  T_Bil  D_Bil    ALP  ALT_GPT  AST_GOT   TP  Alb  AG_ratio  \\\n",
       "0  890   61    1.3    0.2   69.0     26.0     28.0  7.0  4.5      1.80   \n",
       "1  891   65    0.7    0.2  162.0     24.0     20.0  6.4  3.3      0.93   \n",
       "2  892   46    1.2    0.3  265.1     40.0     28.0  7.9  3.8      0.94   \n",
       "3  893   26    0.7    0.1  243.1     21.1     22.9  5.3  2.2      0.60   \n",
       "4  894   38    3.5    1.7  253.0     80.0    406.0  6.8  3.7      1.33   \n",
       "\n",
       "   Gender_Female  Gender_Male  \n",
       "0              0            1  \n",
       "1              1            0  \n",
       "2              0            1  \n",
       "3              0            1  \n",
       "4              0            1  "
      ]
     },
     "execution_count": 6,
     "metadata": {},
     "output_type": "execute_result"
    }
   ],
   "source": [
    "test.head()"
   ]
  },
  {
   "cell_type": "markdown",
   "id": "37a4f2ce",
   "metadata": {},
   "source": [
    "### 目的変数の抽出"
   ]
  },
  {
   "cell_type": "code",
   "execution_count": 7,
   "id": "2f03e096",
   "metadata": {},
   "outputs": [
    {
     "name": "stdout",
     "output_type": "stream",
     "text": [
      "0      1\n",
      "1      0\n",
      "2      1\n",
      "3      0\n",
      "4      0\n",
      "      ..\n",
      "886    0\n",
      "887    1\n",
      "888    1\n",
      "889    1\n",
      "890    0\n",
      "Name: disease, Length: 891, dtype: int64\n"
     ]
    }
   ],
   "source": [
    "y = train[\"disease\"]\n",
    "print(y)"
   ]
  },
  {
   "cell_type": "code",
   "execution_count": 8,
   "id": "144f5bde",
   "metadata": {},
   "outputs": [
    {
     "name": "stderr",
     "output_type": "stream",
     "text": [
      "Using TensorFlow backend.\n"
     ]
    },
    {
     "data": {
      "text/plain": [
       "array([[0., 1.],\n",
       "       [1., 0.],\n",
       "       [0., 1.],\n",
       "       ...,\n",
       "       [0., 1.],\n",
       "       [0., 1.],\n",
       "       [1., 0.]], dtype=float32)"
      ]
     },
     "execution_count": 8,
     "metadata": {},
     "output_type": "execute_result"
    }
   ],
   "source": [
    "#ONE-HOTに変換\n",
    "import keras\n",
    "y = keras.utils.to_categorical(y,2)\n",
    "y"
   ]
  },
  {
   "cell_type": "code",
   "execution_count": 9,
   "id": "b6d57828",
   "metadata": {},
   "outputs": [
    {
     "data": {
      "text/html": [
       "<div>\n",
       "<style scoped>\n",
       "    .dataframe tbody tr th:only-of-type {\n",
       "        vertical-align: middle;\n",
       "    }\n",
       "\n",
       "    .dataframe tbody tr th {\n",
       "        vertical-align: top;\n",
       "    }\n",
       "\n",
       "    .dataframe thead th {\n",
       "        text-align: right;\n",
       "    }\n",
       "</style>\n",
       "<table border=\"1\" class=\"dataframe\">\n",
       "  <thead>\n",
       "    <tr style=\"text-align: right;\">\n",
       "      <th></th>\n",
       "      <th>id</th>\n",
       "      <th>Age</th>\n",
       "      <th>T_Bil</th>\n",
       "      <th>D_Bil</th>\n",
       "      <th>ALP</th>\n",
       "      <th>ALT_GPT</th>\n",
       "      <th>AST_GOT</th>\n",
       "      <th>TP</th>\n",
       "      <th>Alb</th>\n",
       "      <th>AG_ratio</th>\n",
       "      <th>Gender_Female</th>\n",
       "      <th>Gender_Male</th>\n",
       "    </tr>\n",
       "  </thead>\n",
       "  <tbody>\n",
       "    <tr>\n",
       "      <th>0</th>\n",
       "      <td>0</td>\n",
       "      <td>60</td>\n",
       "      <td>2.9</td>\n",
       "      <td>1.3</td>\n",
       "      <td>170.9</td>\n",
       "      <td>42.1</td>\n",
       "      <td>37.1</td>\n",
       "      <td>5.5</td>\n",
       "      <td>2.9</td>\n",
       "      <td>1.01</td>\n",
       "      <td>0</td>\n",
       "      <td>1</td>\n",
       "    </tr>\n",
       "    <tr>\n",
       "      <th>1</th>\n",
       "      <td>1</td>\n",
       "      <td>28</td>\n",
       "      <td>0.7</td>\n",
       "      <td>0.1</td>\n",
       "      <td>158.8</td>\n",
       "      <td>26.0</td>\n",
       "      <td>23.9</td>\n",
       "      <td>6.4</td>\n",
       "      <td>3.7</td>\n",
       "      <td>1.36</td>\n",
       "      <td>1</td>\n",
       "      <td>0</td>\n",
       "    </tr>\n",
       "    <tr>\n",
       "      <th>2</th>\n",
       "      <td>2</td>\n",
       "      <td>60</td>\n",
       "      <td>23.1</td>\n",
       "      <td>12.5</td>\n",
       "      <td>962.0</td>\n",
       "      <td>53.0</td>\n",
       "      <td>40.9</td>\n",
       "      <td>6.8</td>\n",
       "      <td>3.3</td>\n",
       "      <td>0.96</td>\n",
       "      <td>0</td>\n",
       "      <td>1</td>\n",
       "    </tr>\n",
       "    <tr>\n",
       "      <th>3</th>\n",
       "      <td>3</td>\n",
       "      <td>20</td>\n",
       "      <td>1.0</td>\n",
       "      <td>0.5</td>\n",
       "      <td>415.9</td>\n",
       "      <td>33.9</td>\n",
       "      <td>39.0</td>\n",
       "      <td>7.0</td>\n",
       "      <td>3.8</td>\n",
       "      <td>1.31</td>\n",
       "      <td>0</td>\n",
       "      <td>1</td>\n",
       "    </tr>\n",
       "    <tr>\n",
       "      <th>4</th>\n",
       "      <td>4</td>\n",
       "      <td>44</td>\n",
       "      <td>0.6</td>\n",
       "      <td>0.3</td>\n",
       "      <td>152.9</td>\n",
       "      <td>40.9</td>\n",
       "      <td>42.0</td>\n",
       "      <td>4.5</td>\n",
       "      <td>2.1</td>\n",
       "      <td>1.04</td>\n",
       "      <td>1</td>\n",
       "      <td>0</td>\n",
       "    </tr>\n",
       "  </tbody>\n",
       "</table>\n",
       "</div>"
      ],
      "text/plain": [
       "   id  Age  T_Bil  D_Bil    ALP  ALT_GPT  AST_GOT   TP  Alb  AG_ratio  \\\n",
       "0   0   60    2.9    1.3  170.9     42.1     37.1  5.5  2.9      1.01   \n",
       "1   1   28    0.7    0.1  158.8     26.0     23.9  6.4  3.7      1.36   \n",
       "2   2   60   23.1   12.5  962.0     53.0     40.9  6.8  3.3      0.96   \n",
       "3   3   20    1.0    0.5  415.9     33.9     39.0  7.0  3.8      1.31   \n",
       "4   4   44    0.6    0.3  152.9     40.9     42.0  4.5  2.1      1.04   \n",
       "\n",
       "   Gender_Female  Gender_Male  \n",
       "0              0            1  \n",
       "1              1            0  \n",
       "2              0            1  \n",
       "3              0            1  \n",
       "4              1            0  "
      ]
     },
     "execution_count": 9,
     "metadata": {},
     "output_type": "execute_result"
    }
   ],
   "source": [
    "train = train.drop(columns=[\"disease\"])\n",
    "train.head()"
   ]
  },
  {
   "cell_type": "code",
   "execution_count": 10,
   "id": "2ff3b728",
   "metadata": {},
   "outputs": [],
   "source": [
    "train_data = train.values\n",
    "train_labels = y\n",
    "test_data = test.values\n"
   ]
  },
  {
   "cell_type": "markdown",
   "id": "147e4fa7",
   "metadata": {},
   "source": [
    "### 正規化"
   ]
  },
  {
   "cell_type": "code",
   "execution_count": 11,
   "id": "3c06c551",
   "metadata": {},
   "outputs": [
    {
     "data": {
      "text/plain": [
       "array([[-1.73010796,  1.00133319,  0.01873085, ...,  0.04028582,\n",
       "        -0.5501196 ,  0.5501196 ],\n",
       "       [-1.72622007, -0.92200364, -0.42848248, ...,  1.20154234,\n",
       "         1.81778652, -1.81778652],\n",
       "       [-1.72233219,  1.00133319,  4.12496239, ..., -0.12560797,\n",
       "        -0.5501196 ,  0.5501196 ],\n",
       "       ...,\n",
       "       [ 1.72233219,  0.64070754,  4.20627391, ..., -0.52375306,\n",
       "         1.81778652, -1.81778652],\n",
       "       [ 1.72622007, -1.16242075, -0.32684309, ..., -0.42421679,\n",
       "        -0.5501196 ,  0.5501196 ],\n",
       "       [ 1.73010796,  0.82102036, -0.18454794, ..., -0.19196548,\n",
       "        -0.5501196 ,  0.5501196 ]])"
      ]
     },
     "execution_count": 11,
     "metadata": {},
     "output_type": "execute_result"
    }
   ],
   "source": [
    "mean = train_data.mean(axis=0)\n",
    "std = train_data.std(axis=0)\n",
    "train_data = (train_data - mean) / std\n",
    "test_data = (test_data - mean) / std\n",
    "train_data"
   ]
  },
  {
   "cell_type": "markdown",
   "id": "bb29e850",
   "metadata": {},
   "source": [
    "### モデルの構築"
   ]
  },
  {
   "cell_type": "code",
   "execution_count": 12,
   "id": "3029ed8f",
   "metadata": {},
   "outputs": [],
   "source": [
    "from keras.models import Sequential\n",
    "from keras.layers import Dense\n",
    "\n",
    "model = Sequential()\n",
    "model.add(Dense(64, activation='relu', input_shape=(train_data.shape[1],)))\n",
    "model.add(Dense(64, activation='relu'))\n",
    "model.add(Dense(2, activation='softmax'))\n",
    "\n",
    "#model.compile(optimizer='adam', \n",
    "#              loss='mse', \n",
    "#              metrics=['mae'])\n",
    "model.compile(loss='categorical_crossentropy', optimizer='adam', metrics=['accuracy'])"
   ]
  },
  {
   "cell_type": "code",
   "execution_count": 13,
   "id": "f7faebe9",
   "metadata": {},
   "outputs": [
    {
     "name": "stdout",
     "output_type": "stream",
     "text": [
      "Model: \"sequential_1\"\n",
      "_________________________________________________________________\n",
      "Layer (type)                 Output Shape              Param #   \n",
      "=================================================================\n",
      "dense_1 (Dense)              (None, 64)                832       \n",
      "_________________________________________________________________\n",
      "dense_2 (Dense)              (None, 64)                4160      \n",
      "_________________________________________________________________\n",
      "dense_3 (Dense)              (None, 2)                 130       \n",
      "=================================================================\n",
      "Total params: 5,122\n",
      "Trainable params: 5,122\n",
      "Non-trainable params: 0\n",
      "_________________________________________________________________\n"
     ]
    }
   ],
   "source": [
    "model.summary()"
   ]
  },
  {
   "cell_type": "markdown",
   "id": "b0c93794",
   "metadata": {},
   "source": [
    "### 学習"
   ]
  },
  {
   "cell_type": "code",
   "execution_count": 14,
   "id": "3a994a11",
   "metadata": {},
   "outputs": [
    {
     "name": "stdout",
     "output_type": "stream",
     "text": [
      "Train on 712 samples, validate on 179 samples\n",
      "Epoch 1/50\n",
      "712/712 [==============================] - 2s 3ms/step - loss: 0.5565 - accuracy: 0.7247 - val_loss: 0.4902 - val_accuracy: 0.7263\n",
      "Epoch 2/50\n",
      "712/712 [==============================] - 1s 2ms/step - loss: 0.4919 - accuracy: 0.7514 - val_loss: 0.4677 - val_accuracy: 0.7654\n",
      "Epoch 3/50\n",
      "712/712 [==============================] - 1s 2ms/step - loss: 0.4683 - accuracy: 0.7612 - val_loss: 0.4744 - val_accuracy: 0.7151\n",
      "Epoch 4/50\n",
      "712/712 [==============================] - 1s 2ms/step - loss: 0.4411 - accuracy: 0.7739 - val_loss: 0.4714 - val_accuracy: 0.7374\n",
      "Epoch 5/50\n",
      "712/712 [==============================] - 1s 2ms/step - loss: 0.4306 - accuracy: 0.7893 - val_loss: 0.4899 - val_accuracy: 0.7207\n",
      "Epoch 6/50\n",
      "712/712 [==============================] - 1s 2ms/step - loss: 0.4156 - accuracy: 0.7992 - val_loss: 0.4711 - val_accuracy: 0.7207\n",
      "Epoch 7/50\n",
      "712/712 [==============================] - 1s 2ms/step - loss: 0.4029 - accuracy: 0.8118 - val_loss: 0.4433 - val_accuracy: 0.7542\n",
      "Epoch 8/50\n",
      "712/712 [==============================] - 1s 2ms/step - loss: 0.3951 - accuracy: 0.8090 - val_loss: 0.4431 - val_accuracy: 0.7598\n",
      "Epoch 9/50\n",
      "712/712 [==============================] - 1s 2ms/step - loss: 0.3871 - accuracy: 0.8104 - val_loss: 0.4365 - val_accuracy: 0.7654\n",
      "Epoch 10/50\n",
      "712/712 [==============================] - 1s 2ms/step - loss: 0.3741 - accuracy: 0.8188 - val_loss: 0.4743 - val_accuracy: 0.7709\n",
      "Epoch 11/50\n",
      "712/712 [==============================] - 1s 2ms/step - loss: 0.3680 - accuracy: 0.8272 - val_loss: 0.4665 - val_accuracy: 0.7318\n",
      "Epoch 12/50\n",
      "712/712 [==============================] - 1s 2ms/step - loss: 0.3552 - accuracy: 0.8357 - val_loss: 0.4628 - val_accuracy: 0.7821\n",
      "Epoch 13/50\n",
      "712/712 [==============================] - 1s 2ms/step - loss: 0.3465 - accuracy: 0.8413 - val_loss: 0.4850 - val_accuracy: 0.7430\n",
      "Epoch 14/50\n",
      "712/712 [==============================] - 1s 2ms/step - loss: 0.3327 - accuracy: 0.8511 - val_loss: 0.5189 - val_accuracy: 0.7709\n",
      "Epoch 15/50\n",
      "712/712 [==============================] - 1s 2ms/step - loss: 0.3341 - accuracy: 0.8441 - val_loss: 0.5451 - val_accuracy: 0.7709\n",
      "Epoch 16/50\n",
      "712/712 [==============================] - 1s 2ms/step - loss: 0.3223 - accuracy: 0.8497 - val_loss: 0.4373 - val_accuracy: 0.7709\n",
      "Epoch 17/50\n",
      "712/712 [==============================] - 1s 2ms/step - loss: 0.3126 - accuracy: 0.8610 - val_loss: 0.5017 - val_accuracy: 0.7989\n",
      "Epoch 18/50\n",
      "712/712 [==============================] - 1s 2ms/step - loss: 0.3051 - accuracy: 0.8553 - val_loss: 0.4730 - val_accuracy: 0.7542\n",
      "Epoch 19/50\n",
      "712/712 [==============================] - 1s 2ms/step - loss: 0.2971 - accuracy: 0.8638 - val_loss: 0.4673 - val_accuracy: 0.7877\n",
      "Epoch 20/50\n",
      "712/712 [==============================] - 1s 2ms/step - loss: 0.2905 - accuracy: 0.8736 - val_loss: 0.5881 - val_accuracy: 0.7877\n",
      "Epoch 21/50\n",
      "712/712 [==============================] - 1s 2ms/step - loss: 0.2844 - accuracy: 0.8820 - val_loss: 0.5127 - val_accuracy: 0.7821\n",
      "Epoch 22/50\n",
      "712/712 [==============================] - 1s 2ms/step - loss: 0.2613 - accuracy: 0.8904 - val_loss: 0.7292 - val_accuracy: 0.7207\n",
      "Epoch 23/50\n",
      "712/712 [==============================] - 1s 2ms/step - loss: 0.2735 - accuracy: 0.8792 - val_loss: 0.4689 - val_accuracy: 0.7933\n",
      "Epoch 24/50\n",
      "712/712 [==============================] - 1s 2ms/step - loss: 0.2472 - accuracy: 0.8975 - val_loss: 0.6639 - val_accuracy: 0.7765\n",
      "Epoch 25/50\n",
      "712/712 [==============================] - 1s 2ms/step - loss: 0.2378 - accuracy: 0.9031 - val_loss: 0.5358 - val_accuracy: 0.7933\n",
      "Epoch 26/50\n",
      "712/712 [==============================] - 1s 2ms/step - loss: 0.2312 - accuracy: 0.9115 - val_loss: 0.5054 - val_accuracy: 0.8101\n",
      "Epoch 27/50\n",
      "712/712 [==============================] - 1s 2ms/step - loss: 0.2191 - accuracy: 0.9031 - val_loss: 0.6028 - val_accuracy: 0.7877\n",
      "Epoch 28/50\n",
      "712/712 [==============================] - 1s 2ms/step - loss: 0.2251 - accuracy: 0.9003 - val_loss: 0.6894 - val_accuracy: 0.7821\n",
      "Epoch 29/50\n",
      "712/712 [==============================] - 1s 2ms/step - loss: 0.2188 - accuracy: 0.9087 - val_loss: 0.5217 - val_accuracy: 0.8212\n",
      "Epoch 30/50\n",
      "712/712 [==============================] - 1s 2ms/step - loss: 0.1913 - accuracy: 0.9242 - val_loss: 0.5806 - val_accuracy: 0.8045\n",
      "Epoch 31/50\n",
      "712/712 [==============================] - 1s 2ms/step - loss: 0.1892 - accuracy: 0.9185 - val_loss: 0.5875 - val_accuracy: 0.8045\n",
      "Epoch 32/50\n",
      "712/712 [==============================] - 1s 2ms/step - loss: 0.1937 - accuracy: 0.9256 - val_loss: 0.6409 - val_accuracy: 0.7877\n",
      "Epoch 33/50\n",
      "712/712 [==============================] - 1s 2ms/step - loss: 0.1684 - accuracy: 0.9354 - val_loss: 0.8326 - val_accuracy: 0.7598\n",
      "Epoch 34/50\n",
      "712/712 [==============================] - 1s 2ms/step - loss: 0.1840 - accuracy: 0.9199 - val_loss: 0.5490 - val_accuracy: 0.7933\n",
      "Epoch 35/50\n",
      "712/712 [==============================] - 1s 2ms/step - loss: 0.1544 - accuracy: 0.9396 - val_loss: 0.6408 - val_accuracy: 0.8156\n",
      "Epoch 36/50\n",
      "712/712 [==============================] - 1s 2ms/step - loss: 0.1436 - accuracy: 0.9480 - val_loss: 0.8338 - val_accuracy: 0.7989\n",
      "Epoch 37/50\n",
      "712/712 [==============================] - 1s 2ms/step - loss: 0.1593 - accuracy: 0.9382 - val_loss: 0.6885 - val_accuracy: 0.8212\n",
      "Epoch 38/50\n",
      "712/712 [==============================] - 1s 2ms/step - loss: 0.1351 - accuracy: 0.9466 - val_loss: 0.8868 - val_accuracy: 0.8101\n",
      "Epoch 39/50\n",
      "712/712 [==============================] - 1s 2ms/step - loss: 0.1311 - accuracy: 0.9452 - val_loss: 0.9278 - val_accuracy: 0.8101\n",
      "Epoch 40/50\n",
      "712/712 [==============================] - 1s 2ms/step - loss: 0.1291 - accuracy: 0.9466 - val_loss: 0.7229 - val_accuracy: 0.8101\n",
      "Epoch 41/50\n",
      "712/712 [==============================] - 1s 2ms/step - loss: 0.1380 - accuracy: 0.9522 - val_loss: 0.7723 - val_accuracy: 0.8268\n",
      "Epoch 42/50\n",
      "712/712 [==============================] - 1s 2ms/step - loss: 0.1357 - accuracy: 0.9438 - val_loss: 0.7704 - val_accuracy: 0.7989\n",
      "Epoch 43/50\n",
      "712/712 [==============================] - 1s 2ms/step - loss: 0.1086 - accuracy: 0.9635 - val_loss: 0.9145 - val_accuracy: 0.8156\n",
      "Epoch 44/50\n",
      "712/712 [==============================] - 1s 2ms/step - loss: 0.1194 - accuracy: 0.9565 - val_loss: 0.8444 - val_accuracy: 0.8045\n",
      "Epoch 45/50\n",
      "712/712 [==============================] - 1s 2ms/step - loss: 0.1013 - accuracy: 0.9621 - val_loss: 0.8784 - val_accuracy: 0.8212\n",
      "Epoch 46/50\n",
      "712/712 [==============================] - 1s 2ms/step - loss: 0.1009 - accuracy: 0.9635 - val_loss: 0.6840 - val_accuracy: 0.8324\n",
      "Epoch 47/50\n",
      "712/712 [==============================] - 1s 2ms/step - loss: 0.0979 - accuracy: 0.9565 - val_loss: 0.9833 - val_accuracy: 0.8212\n",
      "Epoch 48/50\n",
      "712/712 [==============================] - 1s 2ms/step - loss: 0.0996 - accuracy: 0.9621 - val_loss: 0.9367 - val_accuracy: 0.8324\n",
      "Epoch 49/50\n",
      "712/712 [==============================] - 1s 2ms/step - loss: 0.0879 - accuracy: 0.9677 - val_loss: 1.0218 - val_accuracy: 0.8212\n",
      "Epoch 50/50\n",
      "712/712 [==============================] - 1s 2ms/step - loss: 0.0795 - accuracy: 0.9677 - val_loss: 0.9054 - val_accuracy: 0.8380\n"
     ]
    }
   ],
   "source": [
    "history = model.fit(train_data, \n",
    "                    train_labels,\n",
    "                    batch_size=1,\n",
    "                    epochs=50,\n",
    "                    verbose=1, \n",
    "                    validation_split=0.2)\n"
   ]
  },
  {
   "cell_type": "code",
   "execution_count": 15,
   "id": "0dcfe143",
   "metadata": {},
   "outputs": [
    {
     "name": "stdout",
     "output_type": "stream",
     "text": [
      "\n",
      "Test loss: 0.2331070599598783\n",
      "Test accuracy: 0.953984260559082\n"
     ]
    }
   ],
   "source": [
    "score = model.evaluate(train_data, train_labels, verbose=2)\n",
    "print()\n",
    "print('Test loss:', score[0])\n",
    "print('Test accuracy:', score[1])"
   ]
  },
  {
   "cell_type": "markdown",
   "id": "c788a6b0",
   "metadata": {},
   "source": [
    "### 予測"
   ]
  },
  {
   "cell_type": "code",
   "execution_count": 16,
   "id": "9fdf834f",
   "metadata": {},
   "outputs": [],
   "source": [
    "test_predictions = model.predict(test_data)"
   ]
  },
  {
   "cell_type": "code",
   "execution_count": 17,
   "id": "9b9f8f0b",
   "metadata": {},
   "outputs": [
    {
     "name": "stdout",
     "output_type": "stream",
     "text": [
      "(383, 2)\n"
     ]
    }
   ],
   "source": [
    "print(test_predictions.shape)"
   ]
  },
  {
   "cell_type": "code",
   "execution_count": 22,
   "id": "74b7aa75",
   "metadata": {},
   "outputs": [
    {
     "name": "stdout",
     "output_type": "stream",
     "text": [
      "0\n",
      "正常です\n"
     ]
    }
   ],
   "source": [
    "#最大値のインデックス\n",
    "k = np.argmax(test_predictions,axis=1)\n",
    "#先頭データが自身のデータ\n",
    "print(k[0])\n",
    "if k[0] == 0:\n",
    "    print('正常です')\n",
    "else:\n",
    "    print('肝機能障害です')"
   ]
  },
  {
   "cell_type": "code",
   "execution_count": null,
   "id": "5c3b3e70",
   "metadata": {},
   "outputs": [],
   "source": []
  }
 ],
 "metadata": {
  "kernelspec": {
   "display_name": "Python 3 (ipykernel)",
   "language": "python",
   "name": "python3"
  },
  "language_info": {
   "codemirror_mode": {
    "name": "ipython",
    "version": 3
   },
   "file_extension": ".py",
   "mimetype": "text/x-python",
   "name": "python",
   "nbconvert_exporter": "python",
   "pygments_lexer": "ipython3",
   "version": "3.7.7"
  }
 },
 "nbformat": 4,
 "nbformat_minor": 5
}
