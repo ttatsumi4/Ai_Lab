{
 "cells": [
  {
   "cell_type": "markdown",
   "id": "60f6a9b9",
   "metadata": {},
   "source": [
    "# Boston HousingをKerasでやってみた"
   ]
  },
  {
   "cell_type": "code",
   "execution_count": 1,
   "id": "ae4ba826",
   "metadata": {},
   "outputs": [
    {
     "name": "stderr",
     "output_type": "stream",
     "text": [
      "Using TensorFlow backend.\n"
     ]
    }
   ],
   "source": [
    "import keras\n",
    "from keras.datasets import boston_housing\n",
    "\n",
    "import numpy as np"
   ]
  },
  {
   "cell_type": "markdown",
   "id": "62f2414d",
   "metadata": {},
   "source": [
    "### データセットの読み込み"
   ]
  },
  {
   "cell_type": "code",
   "execution_count": 2,
   "id": "1222eb6f",
   "metadata": {},
   "outputs": [],
   "source": [
    "boston_housing = keras.datasets.boston_housing\n",
    " \n",
    "(train_data, train_labels), (test_data, test_labels) = boston_housing.load_data()\n"
   ]
  },
  {
   "cell_type": "code",
   "execution_count": 3,
   "id": "3232993c",
   "metadata": {},
   "outputs": [
    {
     "name": "stdout",
     "output_type": "stream",
     "text": [
      "train_data = (404, 13)\n",
      "train_labels = (404,)\n",
      "train_data = (102, 13)\n",
      "train_data = (102,)\n"
     ]
    }
   ],
   "source": [
    "print('train_data = ' + str(train_data.shape))\n",
    "print('train_labels = ' + str(train_labels.shape))\n",
    "print('train_data = ' + str(test_data.shape))\n",
    "print('train_data = ' + str(test_labels.shape))"
   ]
  },
  {
   "cell_type": "markdown",
   "id": "509995f7",
   "metadata": {},
   "source": [
    "### データフレームで中身を確認"
   ]
  },
  {
   "cell_type": "code",
   "execution_count": 4,
   "id": "e40007ce",
   "metadata": {},
   "outputs": [
    {
     "data": {
      "text/html": [
       "<div>\n",
       "<style scoped>\n",
       "    .dataframe tbody tr th:only-of-type {\n",
       "        vertical-align: middle;\n",
       "    }\n",
       "\n",
       "    .dataframe tbody tr th {\n",
       "        vertical-align: top;\n",
       "    }\n",
       "\n",
       "    .dataframe thead th {\n",
       "        text-align: right;\n",
       "    }\n",
       "</style>\n",
       "<table border=\"1\" class=\"dataframe\">\n",
       "  <thead>\n",
       "    <tr style=\"text-align: right;\">\n",
       "      <th></th>\n",
       "      <th>犯罪率</th>\n",
       "      <th>広い家の割合</th>\n",
       "      <th>非小売業の割合</th>\n",
       "      <th>川の隣か</th>\n",
       "      <th>NOx濃度</th>\n",
       "      <th>平均部屋数</th>\n",
       "      <th>古い家の割合</th>\n",
       "      <th>主要施設への距離</th>\n",
       "      <th>主要高速道路へのアクセス性</th>\n",
       "      <th>固定資産税率</th>\n",
       "      <th>生徒と先生の比率</th>\n",
       "      <th>町ごとの黒人の割合</th>\n",
       "      <th>低所得者人口の割合</th>\n",
       "    </tr>\n",
       "  </thead>\n",
       "  <tbody>\n",
       "    <tr>\n",
       "      <th>0</th>\n",
       "      <td>1.23247</td>\n",
       "      <td>0.0</td>\n",
       "      <td>8.14</td>\n",
       "      <td>0.0</td>\n",
       "      <td>0.538</td>\n",
       "      <td>6.142</td>\n",
       "      <td>91.7</td>\n",
       "      <td>3.9769</td>\n",
       "      <td>4.0</td>\n",
       "      <td>307.0</td>\n",
       "      <td>21.0</td>\n",
       "      <td>396.90</td>\n",
       "      <td>18.72</td>\n",
       "    </tr>\n",
       "    <tr>\n",
       "      <th>1</th>\n",
       "      <td>0.02177</td>\n",
       "      <td>82.5</td>\n",
       "      <td>2.03</td>\n",
       "      <td>0.0</td>\n",
       "      <td>0.415</td>\n",
       "      <td>7.610</td>\n",
       "      <td>15.7</td>\n",
       "      <td>6.2700</td>\n",
       "      <td>2.0</td>\n",
       "      <td>348.0</td>\n",
       "      <td>14.7</td>\n",
       "      <td>395.38</td>\n",
       "      <td>3.11</td>\n",
       "    </tr>\n",
       "    <tr>\n",
       "      <th>2</th>\n",
       "      <td>4.89822</td>\n",
       "      <td>0.0</td>\n",
       "      <td>18.10</td>\n",
       "      <td>0.0</td>\n",
       "      <td>0.631</td>\n",
       "      <td>4.970</td>\n",
       "      <td>100.0</td>\n",
       "      <td>1.3325</td>\n",
       "      <td>24.0</td>\n",
       "      <td>666.0</td>\n",
       "      <td>20.2</td>\n",
       "      <td>375.52</td>\n",
       "      <td>3.26</td>\n",
       "    </tr>\n",
       "    <tr>\n",
       "      <th>3</th>\n",
       "      <td>0.03961</td>\n",
       "      <td>0.0</td>\n",
       "      <td>5.19</td>\n",
       "      <td>0.0</td>\n",
       "      <td>0.515</td>\n",
       "      <td>6.037</td>\n",
       "      <td>34.5</td>\n",
       "      <td>5.9853</td>\n",
       "      <td>5.0</td>\n",
       "      <td>224.0</td>\n",
       "      <td>20.2</td>\n",
       "      <td>396.90</td>\n",
       "      <td>8.01</td>\n",
       "    </tr>\n",
       "    <tr>\n",
       "      <th>4</th>\n",
       "      <td>3.69311</td>\n",
       "      <td>0.0</td>\n",
       "      <td>18.10</td>\n",
       "      <td>0.0</td>\n",
       "      <td>0.713</td>\n",
       "      <td>6.376</td>\n",
       "      <td>88.4</td>\n",
       "      <td>2.5671</td>\n",
       "      <td>24.0</td>\n",
       "      <td>666.0</td>\n",
       "      <td>20.2</td>\n",
       "      <td>391.43</td>\n",
       "      <td>14.65</td>\n",
       "    </tr>\n",
       "  </tbody>\n",
       "</table>\n",
       "</div>"
      ],
      "text/plain": [
       "       犯罪率  広い家の割合  非小売業の割合  川の隣か  NOx濃度  平均部屋数  古い家の割合  主要施設への距離  \\\n",
       "0  1.23247     0.0     8.14   0.0  0.538  6.142    91.7    3.9769   \n",
       "1  0.02177    82.5     2.03   0.0  0.415  7.610    15.7    6.2700   \n",
       "2  4.89822     0.0    18.10   0.0  0.631  4.970   100.0    1.3325   \n",
       "3  0.03961     0.0     5.19   0.0  0.515  6.037    34.5    5.9853   \n",
       "4  3.69311     0.0    18.10   0.0  0.713  6.376    88.4    2.5671   \n",
       "\n",
       "   主要高速道路へのアクセス性  固定資産税率  生徒と先生の比率  町ごとの黒人の割合  低所得者人口の割合  \n",
       "0            4.0   307.0      21.0     396.90      18.72  \n",
       "1            2.0   348.0      14.7     395.38       3.11  \n",
       "2           24.0   666.0      20.2     375.52       3.26  \n",
       "3            5.0   224.0      20.2     396.90       8.01  \n",
       "4           24.0   666.0      20.2     391.43      14.65  "
      ]
     },
     "execution_count": 4,
     "metadata": {},
     "output_type": "execute_result"
    }
   ],
   "source": [
    "import pandas as pd\n",
    " \n",
    "column_names = ['犯罪率', '広い家の割合', '非小売業の割合', '川の隣か', 'NOx濃度', '平均部屋数', '古い家の割合', '主要施設への距離', '主要高速道路へのアクセス性',\n",
    "                '固定資産税率', '生徒と先生の比率', '町ごとの黒人の割合', '低所得者人口の割合']\n",
    " \n",
    "df = pd.DataFrame(train_data, columns=column_names)\n",
    "df.head()"
   ]
  },
  {
   "cell_type": "markdown",
   "id": "cf94feda",
   "metadata": {},
   "source": [
    "### 特徴を正規化する（特徴の平均を減算して標準偏差で除算）"
   ]
  },
  {
   "cell_type": "code",
   "execution_count": 5,
   "id": "b18786ee",
   "metadata": {},
   "outputs": [],
   "source": [
    "mean = train_data.mean(axis=0)\n",
    "std = train_data.std(axis=0)\n",
    "train_data = (train_data - mean) / std\n",
    "test_data = (test_data - mean) / std"
   ]
  },
  {
   "cell_type": "markdown",
   "id": "35fc2b06",
   "metadata": {},
   "source": [
    "### モデルを作成する"
   ]
  },
  {
   "cell_type": "code",
   "execution_count": 6,
   "id": "15a34dfd",
   "metadata": {},
   "outputs": [],
   "source": [
    "from keras.models import Sequential\n",
    "from keras.layers import Dense\n",
    "\n",
    "model = Sequential()\n",
    "model.add(Dense(64, activation='relu', input_shape=(train_data.shape[1],)))\n",
    "model.add(Dense(64, activation='relu'))\n",
    "model.add(Dense(1))\n",
    "\n",
    "model.compile(optimizer='adam', \n",
    "              loss='mse', \n",
    "              metrics=['mae'])\n"
   ]
  },
  {
   "cell_type": "code",
   "execution_count": 7,
   "id": "8aca1369",
   "metadata": {},
   "outputs": [
    {
     "name": "stdout",
     "output_type": "stream",
     "text": [
      "Model: \"sequential_1\"\n",
      "_________________________________________________________________\n",
      "Layer (type)                 Output Shape              Param #   \n",
      "=================================================================\n",
      "dense_1 (Dense)              (None, 64)                896       \n",
      "_________________________________________________________________\n",
      "dense_2 (Dense)              (None, 64)                4160      \n",
      "_________________________________________________________________\n",
      "dense_3 (Dense)              (None, 1)                 65        \n",
      "=================================================================\n",
      "Total params: 5,121\n",
      "Trainable params: 5,121\n",
      "Non-trainable params: 0\n",
      "_________________________________________________________________\n"
     ]
    }
   ],
   "source": [
    "model.summary()"
   ]
  },
  {
   "cell_type": "markdown",
   "id": "d51a47a5",
   "metadata": {},
   "source": [
    "### 学習する"
   ]
  },
  {
   "cell_type": "code",
   "execution_count": 8,
   "id": "55c441cc",
   "metadata": {},
   "outputs": [
    {
     "name": "stdout",
     "output_type": "stream",
     "text": [
      "Train on 404 samples, validate on 102 samples\n",
      "Epoch 1/50\n",
      "404/404 [==============================] - 1s 3ms/step - loss: 155.1852 - mae: 8.5001 - val_loss: 24.7780 - val_mae: 3.9040\n",
      "Epoch 2/50\n",
      "404/404 [==============================] - 1s 2ms/step - loss: 19.6616 - mae: 3.0432 - val_loss: 24.8053 - val_mae: 3.6489\n",
      "Epoch 3/50\n",
      "404/404 [==============================] - 1s 2ms/step - loss: 14.8205 - mae: 2.7223 - val_loss: 25.7329 - val_mae: 3.5527\n",
      "Epoch 4/50\n",
      "404/404 [==============================] - 1s 2ms/step - loss: 12.9502 - mae: 2.5567 - val_loss: 23.8240 - val_mae: 3.1983\n",
      "Epoch 5/50\n",
      "404/404 [==============================] - 1s 2ms/step - loss: 11.2987 - mae: 2.4157 - val_loss: 23.6068 - val_mae: 3.3526\n",
      "Epoch 6/50\n",
      "404/404 [==============================] - 1s 2ms/step - loss: 10.7072 - mae: 2.3096 - val_loss: 25.2465 - val_mae: 3.2852\n",
      "Epoch 7/50\n",
      "404/404 [==============================] - 1s 2ms/step - loss: 10.6372 - mae: 2.3011 - val_loss: 22.5748 - val_mae: 2.9508\n",
      "Epoch 8/50\n",
      "404/404 [==============================] - 1s 2ms/step - loss: 9.9112 - mae: 2.2029 - val_loss: 32.5439 - val_mae: 3.7795\n",
      "Epoch 9/50\n",
      "404/404 [==============================] - 1s 2ms/step - loss: 9.6878 - mae: 2.2623 - val_loss: 32.6892 - val_mae: 3.4436\n",
      "Epoch 10/50\n",
      "404/404 [==============================] - 1s 2ms/step - loss: 9.8122 - mae: 2.1344 - val_loss: 24.8983 - val_mae: 3.3126\n",
      "Epoch 11/50\n",
      "404/404 [==============================] - 1s 2ms/step - loss: 9.2615 - mae: 2.2210 - val_loss: 17.9897 - val_mae: 2.8985\n",
      "Epoch 12/50\n",
      "404/404 [==============================] - 1s 2ms/step - loss: 9.1161 - mae: 2.1538 - val_loss: 18.1127 - val_mae: 2.7558\n",
      "Epoch 13/50\n",
      "404/404 [==============================] - 1s 2ms/step - loss: 8.7986 - mae: 2.0890 - val_loss: 21.6198 - val_mae: 2.8852\n",
      "Epoch 14/50\n",
      "404/404 [==============================] - 1s 2ms/step - loss: 8.9882 - mae: 2.1217 - val_loss: 18.7351 - val_mae: 2.8216\n",
      "Epoch 15/50\n",
      "404/404 [==============================] - 1s 2ms/step - loss: 8.1412 - mae: 2.0393 - val_loss: 18.4289 - val_mae: 2.8647\n",
      "Epoch 16/50\n",
      "404/404 [==============================] - 1s 2ms/step - loss: 8.2390 - mae: 2.0523 - val_loss: 25.4107 - val_mae: 3.5005\n",
      "Epoch 17/50\n",
      "404/404 [==============================] - 1s 2ms/step - loss: 8.2930 - mae: 2.0399 - val_loss: 18.5030 - val_mae: 2.8897\n",
      "Epoch 18/50\n",
      "404/404 [==============================] - 1s 2ms/step - loss: 8.0173 - mae: 2.0241 - val_loss: 16.4699 - val_mae: 2.6348\n",
      "Epoch 19/50\n",
      "404/404 [==============================] - 1s 2ms/step - loss: 8.3813 - mae: 2.0397 - val_loss: 17.0543 - val_mae: 2.7380\n",
      "Epoch 20/50\n",
      "404/404 [==============================] - 1s 2ms/step - loss: 7.6929 - mae: 1.9914 - val_loss: 16.8091 - val_mae: 2.6054\n",
      "Epoch 21/50\n",
      "404/404 [==============================] - 1s 2ms/step - loss: 7.2228 - mae: 1.9179 - val_loss: 16.0667 - val_mae: 2.6683\n",
      "Epoch 22/50\n",
      "404/404 [==============================] - 1s 2ms/step - loss: 7.4721 - mae: 1.9197 - val_loss: 23.2409 - val_mae: 3.4384\n",
      "Epoch 23/50\n",
      "404/404 [==============================] - 1s 2ms/step - loss: 7.0679 - mae: 1.8778 - val_loss: 27.3171 - val_mae: 3.3395\n",
      "Epoch 24/50\n",
      "404/404 [==============================] - 1s 2ms/step - loss: 6.8827 - mae: 1.8557 - val_loss: 17.7349 - val_mae: 2.8660\n",
      "Epoch 25/50\n",
      "404/404 [==============================] - 1s 2ms/step - loss: 7.1140 - mae: 1.8596 - val_loss: 16.2733 - val_mae: 2.7325\n",
      "Epoch 26/50\n",
      "404/404 [==============================] - 1s 2ms/step - loss: 6.5111 - mae: 1.8080 - val_loss: 21.4946 - val_mae: 2.9923\n",
      "Epoch 27/50\n",
      "404/404 [==============================] - 1s 2ms/step - loss: 7.0808 - mae: 1.8790 - val_loss: 21.0727 - val_mae: 3.1430\n",
      "Epoch 28/50\n",
      "404/404 [==============================] - 1s 2ms/step - loss: 6.3573 - mae: 1.8033 - val_loss: 17.9868 - val_mae: 2.8838\n",
      "Epoch 29/50\n",
      "404/404 [==============================] - 1s 2ms/step - loss: 6.3189 - mae: 1.8158 - val_loss: 15.9104 - val_mae: 2.6531\n",
      "Epoch 30/50\n",
      "404/404 [==============================] - 1s 2ms/step - loss: 6.6030 - mae: 1.8204 - val_loss: 15.8343 - val_mae: 2.7100\n",
      "Epoch 31/50\n",
      "404/404 [==============================] - 1s 2ms/step - loss: 6.1478 - mae: 1.7450 - val_loss: 15.7764 - val_mae: 2.7437\n",
      "Epoch 32/50\n",
      "404/404 [==============================] - 1s 2ms/step - loss: 6.0408 - mae: 1.7649 - val_loss: 17.7642 - val_mae: 2.8430\n",
      "Epoch 33/50\n",
      "404/404 [==============================] - 1s 2ms/step - loss: 5.9145 - mae: 1.7574 - val_loss: 20.7522 - val_mae: 3.1457\n",
      "Epoch 34/50\n",
      "404/404 [==============================] - 1s 2ms/step - loss: 5.7337 - mae: 1.7239 - val_loss: 19.4297 - val_mae: 3.1199\n",
      "Epoch 35/50\n",
      "404/404 [==============================] - 1s 2ms/step - loss: 5.7716 - mae: 1.7311 - val_loss: 15.4422 - val_mae: 2.6891\n",
      "Epoch 36/50\n",
      "404/404 [==============================] - 1s 2ms/step - loss: 5.6524 - mae: 1.7079 - val_loss: 13.8391 - val_mae: 2.5468\n",
      "Epoch 37/50\n",
      "404/404 [==============================] - 1s 2ms/step - loss: 5.2891 - mae: 1.6662 - val_loss: 12.0944 - val_mae: 2.4146\n",
      "Epoch 38/50\n",
      "404/404 [==============================] - 1s 2ms/step - loss: 5.0999 - mae: 1.6273 - val_loss: 13.4882 - val_mae: 2.5161\n",
      "Epoch 39/50\n",
      "404/404 [==============================] - 1s 2ms/step - loss: 5.3837 - mae: 1.6306 - val_loss: 16.6951 - val_mae: 2.8999\n",
      "Epoch 40/50\n",
      "404/404 [==============================] - 1s 2ms/step - loss: 4.9951 - mae: 1.5969 - val_loss: 16.7788 - val_mae: 2.8890\n",
      "Epoch 41/50\n",
      "404/404 [==============================] - 1s 2ms/step - loss: 5.0573 - mae: 1.6342 - val_loss: 16.5101 - val_mae: 2.8003\n",
      "Epoch 42/50\n",
      "404/404 [==============================] - 1s 2ms/step - loss: 4.8862 - mae: 1.5354 - val_loss: 13.9494 - val_mae: 2.6391\n",
      "Epoch 43/50\n",
      "404/404 [==============================] - 1s 2ms/step - loss: 4.7536 - mae: 1.5989 - val_loss: 12.7447 - val_mae: 2.4294\n",
      "Epoch 44/50\n",
      "404/404 [==============================] - 1s 2ms/step - loss: 4.4630 - mae: 1.5128 - val_loss: 14.2002 - val_mae: 2.7112\n",
      "Epoch 45/50\n",
      "404/404 [==============================] - 1s 2ms/step - loss: 4.6169 - mae: 1.5699 - val_loss: 12.3933 - val_mae: 2.5321\n",
      "Epoch 46/50\n",
      "404/404 [==============================] - 1s 2ms/step - loss: 4.3282 - mae: 1.4899 - val_loss: 14.2598 - val_mae: 2.5578\n",
      "Epoch 47/50\n",
      "404/404 [==============================] - 1s 2ms/step - loss: 4.2102 - mae: 1.4915 - val_loss: 13.4774 - val_mae: 2.6278\n",
      "Epoch 48/50\n",
      "404/404 [==============================] - 1s 2ms/step - loss: 3.9057 - mae: 1.4380 - val_loss: 14.0906 - val_mae: 2.6701\n",
      "Epoch 49/50\n",
      "404/404 [==============================] - 1s 2ms/step - loss: 4.1788 - mae: 1.4574 - val_loss: 14.2305 - val_mae: 2.6176\n",
      "Epoch 50/50\n",
      "404/404 [==============================] - 1s 2ms/step - loss: 3.9769 - mae: 1.4849 - val_loss: 15.3933 - val_mae: 2.7804\n"
     ]
    }
   ],
   "source": [
    "history = model.fit(train_data, \n",
    "                    train_labels,\n",
    "                    batch_size=1,\n",
    "                    epochs=50,\n",
    "                    verbose=1,\n",
    "                    validation_data=(test_data, test_labels))"
   ]
  },
  {
   "cell_type": "markdown",
   "id": "765842bc",
   "metadata": {},
   "source": [
    "### 誤差を調査する"
   ]
  },
  {
   "cell_type": "code",
   "execution_count": 9,
   "id": "332ab8d1",
   "metadata": {},
   "outputs": [
    {
     "name": "stdout",
     "output_type": "stream",
     "text": [
      "\n",
      "Testing set Mean Abs Error: $2780.37\n"
     ]
    }
   ],
   "source": [
    "score = model.evaluate(test_data, test_labels, verbose=0)\n",
    "print()\n",
    "print(\"Testing set Mean Abs Error: ${:7.2f}\".format( score[1] * 1000))"
   ]
  },
  {
   "cell_type": "markdown",
   "id": "cd27323f",
   "metadata": {},
   "source": [
    "### テストデータの中身"
   ]
  },
  {
   "cell_type": "code",
   "execution_count": 10,
   "id": "d6a8c636",
   "metadata": {},
   "outputs": [
    {
     "data": {
      "text/plain": [
       "array([ 7200, 18800, 19000, 27000, 22200, 24500, 31200, 22900, 20500,\n",
       "       23200, 18600, 14500, 17800, 50000, 20800, 24300, 24200, 19800,\n",
       "       19100, 22700, 12000, 10200, 20000, 18500, 20900, 23000, 27500,\n",
       "       30100,  9500, 22000, 21200, 14100, 33100, 23400, 20100,  7400,\n",
       "       15400, 23800, 20100, 24500, 33000, 28400, 14100, 46700, 32500,\n",
       "       29600, 28400, 19800, 20200, 25000, 35400, 20300,  9700, 14500,\n",
       "       34900, 26600,  7200, 50000, 32400, 21600, 29800, 13100, 27500,\n",
       "       21200, 23100, 21900, 13000, 23200,  8100,  5600, 21700, 29600,\n",
       "       19600,  7000, 26400, 18900, 20900, 28100, 35400, 10200, 24300,\n",
       "       43100, 17600, 15400, 16200, 27100, 21400, 21500, 22400, 25000,\n",
       "       16600, 18600, 22000, 42800, 35100, 21500, 36000, 21900, 24100,\n",
       "       50000, 26700, 25000])"
      ]
     },
     "execution_count": 10,
     "metadata": {},
     "output_type": "execute_result"
    }
   ],
   "source": [
    "myArray = np.array(test_labels * 1000)\n",
    "myArray = myArray.astype(int)\n",
    "myArray"
   ]
  },
  {
   "cell_type": "markdown",
   "id": "8ed4e42b",
   "metadata": {},
   "source": [
    "### テストデータで予測する"
   ]
  },
  {
   "cell_type": "code",
   "execution_count": 11,
   "id": "5f417f29",
   "metadata": {},
   "outputs": [],
   "source": [
    "test_predictions = model.predict(test_data).flatten() "
   ]
  },
  {
   "cell_type": "code",
   "execution_count": 12,
   "id": "d00d7927",
   "metadata": {},
   "outputs": [
    {
     "data": {
      "text/plain": [
       "array([ 8189, 18818, 18834, 35527, 23549, 20752, 26377, 19832, 17910,\n",
       "       22050, 21294, 16125, 15307, 43724, 20717, 17790, 23720, 18040,\n",
       "       19831, 22083, 10190, 11681, 20673, 13088, 16094, 24129, 27259,\n",
       "       26234, 12059, 17257, 18768, 15354, 31768, 22005, 17830,  6499,\n",
       "       15914, 16685, 18062, 24561, 27907, 26244, 13969, 43742, 28669,\n",
       "       25432, 27187, 18068, 24063, 20817, 32806, 19773, 10396, 12191,\n",
       "       36265, 26953, 12649, 49570, 33763, 22296, 23397, 16209, 15021,\n",
       "       18863, 23076, 18642, 14960, 19782, 13252,  7143, 20742, 27346,\n",
       "       26981, 12783, 23733, 18673, 16864, 22458, 34494, 10652, 21791,\n",
       "       39038, 14167, 14114, 16794, 16865, 25636, 19810, 22174, 27668,\n",
       "       19448, 15209, 26516, 41420, 34986, 21145, 36278, 40137, 23503,\n",
       "       48250, 29030, 18951])"
      ]
     },
     "execution_count": 12,
     "metadata": {},
     "output_type": "execute_result"
    }
   ],
   "source": [
    "myArray = np.array(test_predictions * 1000)\n",
    "myArray = myArray.astype(int)\n",
    "myArray"
   ]
  },
  {
   "cell_type": "code",
   "execution_count": 41,
   "id": "ac3d7cce",
   "metadata": {},
   "outputs": [],
   "source": [
    "model.save('boston_housing2_model')"
   ]
  },
  {
   "cell_type": "code",
   "execution_count": null,
   "id": "3e7290f6",
   "metadata": {},
   "outputs": [],
   "source": []
  }
 ],
 "metadata": {
  "kernelspec": {
   "display_name": "Python 3 (ipykernel)",
   "language": "python",
   "name": "python3"
  },
  "language_info": {
   "codemirror_mode": {
    "name": "ipython",
    "version": 3
   },
   "file_extension": ".py",
   "mimetype": "text/x-python",
   "name": "python",
   "nbconvert_exporter": "python",
   "pygments_lexer": "ipython3",
   "version": "3.7.7"
  }
 },
 "nbformat": 4,
 "nbformat_minor": 5
}
