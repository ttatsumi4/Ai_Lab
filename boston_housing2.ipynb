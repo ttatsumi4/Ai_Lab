{
 "cells": [
  {
   "cell_type": "markdown",
   "id": "dbd59ff8",
   "metadata": {},
   "source": [
    "# Boston HousingをKerasでやってみた"
   ]
  },
  {
   "cell_type": "code",
   "execution_count": 1,
   "id": "8e248ec4",
   "metadata": {},
   "outputs": [
    {
     "name": "stderr",
     "output_type": "stream",
     "text": [
      "Using TensorFlow backend.\n"
     ]
    }
   ],
   "source": [
    "import keras\n",
    "from keras.datasets import boston_housing\n",
    "\n",
    "import numpy as np"
   ]
  },
  {
   "cell_type": "markdown",
   "id": "f1eec418",
   "metadata": {},
   "source": [
    "### データセットの読み込み"
   ]
  },
  {
   "cell_type": "code",
   "execution_count": 2,
   "id": "295615e5",
   "metadata": {},
   "outputs": [],
   "source": [
    "boston_housing = keras.datasets.boston_housing\n",
    " \n",
    "(train_data, train_labels), (test_data, test_labels) = boston_housing.load_data()\n"
   ]
  },
  {
   "cell_type": "code",
   "execution_count": 3,
   "id": "74f6c858",
   "metadata": {},
   "outputs": [
    {
     "name": "stdout",
     "output_type": "stream",
     "text": [
      "train_data = (404, 13)\n",
      "train_labels = (404,)\n",
      "train_data = (102, 13)\n",
      "train_data = (102,)\n"
     ]
    }
   ],
   "source": [
    "print('train_data = ' + str(train_data.shape))\n",
    "print('train_labels = ' + str(train_labels.shape))\n",
    "print('train_data = ' + str(test_data.shape))\n",
    "print('train_data = ' + str(test_labels.shape))"
   ]
  },
  {
   "cell_type": "markdown",
   "id": "0bc3f028",
   "metadata": {},
   "source": [
    "### データフレームで中身を確認"
   ]
  },
  {
   "cell_type": "code",
   "execution_count": 4,
   "id": "82e3c98c",
   "metadata": {},
   "outputs": [
    {
     "data": {
      "text/html": [
       "<div>\n",
       "<style scoped>\n",
       "    .dataframe tbody tr th:only-of-type {\n",
       "        vertical-align: middle;\n",
       "    }\n",
       "\n",
       "    .dataframe tbody tr th {\n",
       "        vertical-align: top;\n",
       "    }\n",
       "\n",
       "    .dataframe thead th {\n",
       "        text-align: right;\n",
       "    }\n",
       "</style>\n",
       "<table border=\"1\" class=\"dataframe\">\n",
       "  <thead>\n",
       "    <tr style=\"text-align: right;\">\n",
       "      <th></th>\n",
       "      <th>犯罪率</th>\n",
       "      <th>広い家の割合</th>\n",
       "      <th>非小売業の割合</th>\n",
       "      <th>川の隣か</th>\n",
       "      <th>NOx濃度</th>\n",
       "      <th>平均部屋数</th>\n",
       "      <th>古い家の割合</th>\n",
       "      <th>主要施設への距離</th>\n",
       "      <th>主要高速道路へのアクセス性</th>\n",
       "      <th>固定資産税率</th>\n",
       "      <th>生徒と先生の比率</th>\n",
       "      <th>町ごとの黒人の割合</th>\n",
       "      <th>低所得者人口の割合</th>\n",
       "    </tr>\n",
       "  </thead>\n",
       "  <tbody>\n",
       "    <tr>\n",
       "      <th>0</th>\n",
       "      <td>1.23247</td>\n",
       "      <td>0.0</td>\n",
       "      <td>8.14</td>\n",
       "      <td>0.0</td>\n",
       "      <td>0.538</td>\n",
       "      <td>6.142</td>\n",
       "      <td>91.7</td>\n",
       "      <td>3.9769</td>\n",
       "      <td>4.0</td>\n",
       "      <td>307.0</td>\n",
       "      <td>21.0</td>\n",
       "      <td>396.90</td>\n",
       "      <td>18.72</td>\n",
       "    </tr>\n",
       "    <tr>\n",
       "      <th>1</th>\n",
       "      <td>0.02177</td>\n",
       "      <td>82.5</td>\n",
       "      <td>2.03</td>\n",
       "      <td>0.0</td>\n",
       "      <td>0.415</td>\n",
       "      <td>7.610</td>\n",
       "      <td>15.7</td>\n",
       "      <td>6.2700</td>\n",
       "      <td>2.0</td>\n",
       "      <td>348.0</td>\n",
       "      <td>14.7</td>\n",
       "      <td>395.38</td>\n",
       "      <td>3.11</td>\n",
       "    </tr>\n",
       "    <tr>\n",
       "      <th>2</th>\n",
       "      <td>4.89822</td>\n",
       "      <td>0.0</td>\n",
       "      <td>18.10</td>\n",
       "      <td>0.0</td>\n",
       "      <td>0.631</td>\n",
       "      <td>4.970</td>\n",
       "      <td>100.0</td>\n",
       "      <td>1.3325</td>\n",
       "      <td>24.0</td>\n",
       "      <td>666.0</td>\n",
       "      <td>20.2</td>\n",
       "      <td>375.52</td>\n",
       "      <td>3.26</td>\n",
       "    </tr>\n",
       "    <tr>\n",
       "      <th>3</th>\n",
       "      <td>0.03961</td>\n",
       "      <td>0.0</td>\n",
       "      <td>5.19</td>\n",
       "      <td>0.0</td>\n",
       "      <td>0.515</td>\n",
       "      <td>6.037</td>\n",
       "      <td>34.5</td>\n",
       "      <td>5.9853</td>\n",
       "      <td>5.0</td>\n",
       "      <td>224.0</td>\n",
       "      <td>20.2</td>\n",
       "      <td>396.90</td>\n",
       "      <td>8.01</td>\n",
       "    </tr>\n",
       "    <tr>\n",
       "      <th>4</th>\n",
       "      <td>3.69311</td>\n",
       "      <td>0.0</td>\n",
       "      <td>18.10</td>\n",
       "      <td>0.0</td>\n",
       "      <td>0.713</td>\n",
       "      <td>6.376</td>\n",
       "      <td>88.4</td>\n",
       "      <td>2.5671</td>\n",
       "      <td>24.0</td>\n",
       "      <td>666.0</td>\n",
       "      <td>20.2</td>\n",
       "      <td>391.43</td>\n",
       "      <td>14.65</td>\n",
       "    </tr>\n",
       "  </tbody>\n",
       "</table>\n",
       "</div>"
      ],
      "text/plain": [
       "       犯罪率  広い家の割合  非小売業の割合  川の隣か  NOx濃度  平均部屋数  古い家の割合  主要施設への距離  \\\n",
       "0  1.23247     0.0     8.14   0.0  0.538  6.142    91.7    3.9769   \n",
       "1  0.02177    82.5     2.03   0.0  0.415  7.610    15.7    6.2700   \n",
       "2  4.89822     0.0    18.10   0.0  0.631  4.970   100.0    1.3325   \n",
       "3  0.03961     0.0     5.19   0.0  0.515  6.037    34.5    5.9853   \n",
       "4  3.69311     0.0    18.10   0.0  0.713  6.376    88.4    2.5671   \n",
       "\n",
       "   主要高速道路へのアクセス性  固定資産税率  生徒と先生の比率  町ごとの黒人の割合  低所得者人口の割合  \n",
       "0            4.0   307.0      21.0     396.90      18.72  \n",
       "1            2.0   348.0      14.7     395.38       3.11  \n",
       "2           24.0   666.0      20.2     375.52       3.26  \n",
       "3            5.0   224.0      20.2     396.90       8.01  \n",
       "4           24.0   666.0      20.2     391.43      14.65  "
      ]
     },
     "execution_count": 4,
     "metadata": {},
     "output_type": "execute_result"
    }
   ],
   "source": [
    "import pandas as pd\n",
    " \n",
    "column_names = ['犯罪率', '広い家の割合', '非小売業の割合', '川の隣か', 'NOx濃度', '平均部屋数', '古い家の割合', '主要施設への距離', '主要高速道路へのアクセス性',\n",
    "                '固定資産税率', '生徒と先生の比率', '町ごとの黒人の割合', '低所得者人口の割合']\n",
    " \n",
    "df = pd.DataFrame(train_data, columns=column_names)\n",
    "df.head()"
   ]
  },
  {
   "cell_type": "markdown",
   "id": "f5d893d9",
   "metadata": {},
   "source": [
    "### 特徴を正規化する（特徴の平均を減算して標準偏差で除算）"
   ]
  },
  {
   "cell_type": "code",
   "execution_count": 5,
   "id": "2c69c80b",
   "metadata": {},
   "outputs": [],
   "source": [
    "mean = train_data.mean(axis=0)\n",
    "std = train_data.std(axis=0)\n",
    "train_data = (train_data - mean) / std\n",
    "test_data = (test_data - mean) / std"
   ]
  },
  {
   "cell_type": "markdown",
   "id": "9df49a94",
   "metadata": {},
   "source": [
    "### モデルを作成する"
   ]
  },
  {
   "cell_type": "code",
   "execution_count": 6,
   "id": "a6441c06",
   "metadata": {},
   "outputs": [],
   "source": [
    "from keras.models import Sequential\n",
    "from keras.layers import Dense\n",
    "\n",
    "model = Sequential()\n",
    "model.add(Dense(64, activation='relu', input_shape=(train_data.shape[1],)))\n",
    "model.add(Dense(64, activation='relu'))\n",
    "model.add(Dense(1))\n",
    "\n",
    "model.compile(optimizer='adam', \n",
    "              loss='mse', \n",
    "              metrics=['mae'])\n"
   ]
  },
  {
   "cell_type": "code",
   "execution_count": 7,
   "id": "7c4bbd7a",
   "metadata": {},
   "outputs": [
    {
     "name": "stdout",
     "output_type": "stream",
     "text": [
      "Model: \"sequential_1\"\n",
      "_________________________________________________________________\n",
      "Layer (type)                 Output Shape              Param #   \n",
      "=================================================================\n",
      "dense_1 (Dense)              (None, 64)                896       \n",
      "_________________________________________________________________\n",
      "dense_2 (Dense)              (None, 64)                4160      \n",
      "_________________________________________________________________\n",
      "dense_3 (Dense)              (None, 1)                 65        \n",
      "=================================================================\n",
      "Total params: 5,121\n",
      "Trainable params: 5,121\n",
      "Non-trainable params: 0\n",
      "_________________________________________________________________\n"
     ]
    }
   ],
   "source": [
    "model.summary()"
   ]
  },
  {
   "cell_type": "markdown",
   "id": "f0627011",
   "metadata": {},
   "source": [
    "### 学習する"
   ]
  },
  {
   "cell_type": "code",
   "execution_count": 8,
   "id": "b440d05f",
   "metadata": {},
   "outputs": [
    {
     "name": "stdout",
     "output_type": "stream",
     "text": [
      "Train on 404 samples, validate on 102 samples\n",
      "Epoch 1/50\n",
      "404/404 [==============================] - 1s 3ms/step - loss: 131.9627 - mae: 7.7966 - val_loss: 27.8431 - val_mae: 4.1642\n",
      "Epoch 2/50\n",
      "404/404 [==============================] - 1s 2ms/step - loss: 21.2170 - mae: 3.1225 - val_loss: 21.8549 - val_mae: 3.3833\n",
      "Epoch 3/50\n",
      "404/404 [==============================] - 1s 2ms/step - loss: 16.0251 - mae: 2.7973 - val_loss: 24.4421 - val_mae: 3.4629\n",
      "Epoch 4/50\n",
      "404/404 [==============================] - 1s 2ms/step - loss: 13.0061 - mae: 2.5296 - val_loss: 26.7514 - val_mae: 3.5210\n",
      "Epoch 5/50\n",
      "404/404 [==============================] - 1s 2ms/step - loss: 11.7468 - mae: 2.4691 - val_loss: 19.9591 - val_mae: 3.0345\n",
      "Epoch 6/50\n",
      "404/404 [==============================] - 1s 2ms/step - loss: 11.1908 - mae: 2.4045 - val_loss: 19.1742 - val_mae: 2.9890\n",
      "Epoch 7/50\n",
      "404/404 [==============================] - 1s 2ms/step - loss: 10.6299 - mae: 2.3052 - val_loss: 26.8888 - val_mae: 3.4572\n",
      "Epoch 8/50\n",
      "404/404 [==============================] - 1s 2ms/step - loss: 10.6627 - mae: 2.3369 - val_loss: 22.9684 - val_mae: 3.1161\n",
      "Epoch 9/50\n",
      "404/404 [==============================] - 1s 2ms/step - loss: 9.4434 - mae: 2.2382 - val_loss: 28.4728 - val_mae: 3.6527\n",
      "Epoch 10/50\n",
      "404/404 [==============================] - 1s 2ms/step - loss: 10.1291 - mae: 2.3185 - val_loss: 17.9885 - val_mae: 2.8355\n",
      "Epoch 11/50\n",
      "404/404 [==============================] - 1s 2ms/step - loss: 9.2148 - mae: 2.2250 - val_loss: 17.3970 - val_mae: 2.7457\n",
      "Epoch 12/50\n",
      "404/404 [==============================] - 1s 2ms/step - loss: 8.8595 - mae: 2.1050 - val_loss: 27.7019 - val_mae: 3.5037\n",
      "Epoch 13/50\n",
      "404/404 [==============================] - 1s 2ms/step - loss: 9.2513 - mae: 2.1675 - val_loss: 19.1751 - val_mae: 2.7401\n",
      "Epoch 14/50\n",
      "404/404 [==============================] - 1s 2ms/step - loss: 8.5179 - mae: 2.2006 - val_loss: 20.6300 - val_mae: 2.9539\n",
      "Epoch 15/50\n",
      "404/404 [==============================] - 1s 2ms/step - loss: 8.6173 - mae: 2.0642 - val_loss: 18.1610 - val_mae: 2.7652\n",
      "Epoch 16/50\n",
      "404/404 [==============================] - 1s 2ms/step - loss: 7.7260 - mae: 1.9968 - val_loss: 17.9215 - val_mae: 2.7701\n",
      "Epoch 17/50\n",
      "404/404 [==============================] - 1s 3ms/step - loss: 8.8893 - mae: 2.1155 - val_loss: 18.3424 - val_mae: 2.6912\n",
      "Epoch 18/50\n",
      "404/404 [==============================] - 1s 3ms/step - loss: 8.1065 - mae: 2.0705 - val_loss: 19.4835 - val_mae: 3.1064\n",
      "Epoch 19/50\n",
      "404/404 [==============================] - 1s 4ms/step - loss: 8.1154 - mae: 2.0383 - val_loss: 17.2895 - val_mae: 2.7071\n",
      "Epoch 20/50\n",
      "404/404 [==============================] - 1s 3ms/step - loss: 7.4975 - mae: 1.9443 - val_loss: 19.5169 - val_mae: 2.7636\n",
      "Epoch 21/50\n",
      "404/404 [==============================] - 1s 2ms/step - loss: 7.7028 - mae: 2.0274 - val_loss: 21.4046 - val_mae: 2.8870\n",
      "Epoch 22/50\n",
      "404/404 [==============================] - 1s 2ms/step - loss: 7.5659 - mae: 1.9710 - val_loss: 16.6131 - val_mae: 2.6259\n",
      "Epoch 23/50\n",
      "404/404 [==============================] - 1s 2ms/step - loss: 7.0356 - mae: 1.9355 - val_loss: 24.6994 - val_mae: 3.2527\n",
      "Epoch 24/50\n",
      "404/404 [==============================] - 1s 2ms/step - loss: 7.1862 - mae: 1.9466 - val_loss: 18.4742 - val_mae: 2.6033\n",
      "Epoch 25/50\n",
      "404/404 [==============================] - 1s 2ms/step - loss: 6.8212 - mae: 1.9245 - val_loss: 18.0145 - val_mae: 2.6964\n",
      "Epoch 26/50\n",
      "404/404 [==============================] - 1s 2ms/step - loss: 6.4852 - mae: 1.8380 - val_loss: 21.5339 - val_mae: 2.9845\n",
      "Epoch 27/50\n",
      "404/404 [==============================] - 1s 2ms/step - loss: 7.1361 - mae: 1.9425 - val_loss: 17.4116 - val_mae: 2.7924\n",
      "Epoch 28/50\n",
      "404/404 [==============================] - 1s 2ms/step - loss: 6.5489 - mae: 1.8352 - val_loss: 17.6056 - val_mae: 2.7275\n",
      "Epoch 29/50\n",
      "404/404 [==============================] - 1s 2ms/step - loss: 6.3193 - mae: 1.8231 - val_loss: 17.3361 - val_mae: 2.7030\n",
      "Epoch 30/50\n",
      "404/404 [==============================] - 1s 2ms/step - loss: 5.9331 - mae: 1.7879 - val_loss: 20.5584 - val_mae: 2.9871\n",
      "Epoch 31/50\n",
      "404/404 [==============================] - 1s 2ms/step - loss: 6.4625 - mae: 1.7934 - val_loss: 18.7865 - val_mae: 2.7685\n",
      "Epoch 32/50\n",
      "404/404 [==============================] - 1s 2ms/step - loss: 6.1936 - mae: 1.7920 - val_loss: 17.9691 - val_mae: 2.7359\n",
      "Epoch 33/50\n",
      "404/404 [==============================] - 1s 2ms/step - loss: 6.3706 - mae: 1.8274 - val_loss: 19.4498 - val_mae: 2.8739\n",
      "Epoch 34/50\n",
      "404/404 [==============================] - 1s 2ms/step - loss: 6.0413 - mae: 1.8290 - val_loss: 17.3329 - val_mae: 2.9109\n",
      "Epoch 35/50\n",
      "404/404 [==============================] - 1s 2ms/step - loss: 5.6819 - mae: 1.7280 - val_loss: 17.3901 - val_mae: 2.8082\n",
      "Epoch 36/50\n",
      "404/404 [==============================] - 1s 2ms/step - loss: 6.0356 - mae: 1.7706 - val_loss: 15.8947 - val_mae: 2.6105\n",
      "Epoch 37/50\n",
      "404/404 [==============================] - 1s 2ms/step - loss: 5.7135 - mae: 1.7287 - val_loss: 13.2891 - val_mae: 2.4869\n",
      "Epoch 38/50\n",
      "404/404 [==============================] - 1s 2ms/step - loss: 5.3897 - mae: 1.7071 - val_loss: 17.7441 - val_mae: 2.7462\n",
      "Epoch 39/50\n",
      "404/404 [==============================] - 1s 2ms/step - loss: 5.3805 - mae: 1.6749 - val_loss: 16.7966 - val_mae: 2.7397\n",
      "Epoch 40/50\n",
      "404/404 [==============================] - 1s 3ms/step - loss: 5.4456 - mae: 1.7353 - val_loss: 16.9513 - val_mae: 2.7822\n",
      "Epoch 41/50\n",
      "404/404 [==============================] - 1s 2ms/step - loss: 5.4601 - mae: 1.7620 - val_loss: 13.0491 - val_mae: 2.4027\n",
      "Epoch 42/50\n",
      "404/404 [==============================] - 1s 2ms/step - loss: 4.6904 - mae: 1.5756 - val_loss: 13.1491 - val_mae: 2.5212\n",
      "Epoch 43/50\n",
      "404/404 [==============================] - 1s 2ms/step - loss: 5.3181 - mae: 1.7119 - val_loss: 13.4089 - val_mae: 2.5114\n",
      "Epoch 44/50\n",
      "404/404 [==============================] - 1s 2ms/step - loss: 4.6599 - mae: 1.5706 - val_loss: 15.3591 - val_mae: 2.6623\n",
      "Epoch 45/50\n",
      "404/404 [==============================] - 1s 2ms/step - loss: 5.2030 - mae: 1.6574 - val_loss: 15.9197 - val_mae: 2.6674\n",
      "Epoch 46/50\n",
      "404/404 [==============================] - 1s 2ms/step - loss: 4.6900 - mae: 1.5962 - val_loss: 13.5046 - val_mae: 2.4784\n",
      "Epoch 47/50\n",
      "404/404 [==============================] - 1s 2ms/step - loss: 4.8392 - mae: 1.6158 - val_loss: 13.5314 - val_mae: 2.4850\n",
      "Epoch 48/50\n",
      "404/404 [==============================] - 1s 2ms/step - loss: 4.6137 - mae: 1.5858 - val_loss: 14.1848 - val_mae: 2.6095\n",
      "Epoch 49/50\n",
      "404/404 [==============================] - 1s 2ms/step - loss: 4.5316 - mae: 1.5519 - val_loss: 11.4488 - val_mae: 2.3915\n",
      "Epoch 50/50\n",
      "404/404 [==============================] - 1s 2ms/step - loss: 4.7937 - mae: 1.6035 - val_loss: 12.9485 - val_mae: 2.4947\n"
     ]
    }
   ],
   "source": [
    "history = model.fit(train_data, \n",
    "                    train_labels,\n",
    "                    batch_size=1,\n",
    "                    epochs=50,\n",
    "                    verbose=1,\n",
    "                    validation_data=(test_data, test_labels))"
   ]
  },
  {
   "cell_type": "markdown",
   "id": "b38e0e9c",
   "metadata": {},
   "source": [
    "### 誤差を調査する"
   ]
  },
  {
   "cell_type": "code",
   "execution_count": 9,
   "id": "d71db3da",
   "metadata": {},
   "outputs": [
    {
     "name": "stdout",
     "output_type": "stream",
     "text": [
      "\n",
      "Testing set Mean Abs Error: $2494.66\n"
     ]
    }
   ],
   "source": [
    "score = model.evaluate(test_data, test_labels, verbose=0)\n",
    "print()\n",
    "print(\"Testing set Mean Abs Error: ${:7.2f}\".format( score[1] * 1000))"
   ]
  },
  {
   "cell_type": "markdown",
   "id": "8044ca92",
   "metadata": {},
   "source": [
    "### テストデータの中身"
   ]
  },
  {
   "cell_type": "code",
   "execution_count": 10,
   "id": "664e04de",
   "metadata": {},
   "outputs": [
    {
     "data": {
      "text/plain": [
       "array([ 7200, 18800, 19000, 27000, 22200, 24500, 31200, 22900, 20500,\n",
       "       23200, 18600, 14500, 17800, 50000, 20800, 24300, 24200, 19800,\n",
       "       19100, 22700, 12000, 10200, 20000, 18500, 20900, 23000, 27500,\n",
       "       30100,  9500, 22000, 21200, 14100, 33100, 23400, 20100,  7400,\n",
       "       15400, 23800, 20100, 24500, 33000, 28400, 14100, 46700, 32500,\n",
       "       29600, 28400, 19800, 20200, 25000, 35400, 20300,  9700, 14500,\n",
       "       34900, 26600,  7200, 50000, 32400, 21600, 29800, 13100, 27500,\n",
       "       21200, 23100, 21900, 13000, 23200,  8100,  5600, 21700, 29600,\n",
       "       19600,  7000, 26400, 18900, 20900, 28100, 35400, 10200, 24300,\n",
       "       43100, 17600, 15400, 16200, 27100, 21400, 21500, 22400, 25000,\n",
       "       16600, 18600, 22000, 42800, 35100, 21500, 36000, 21900, 24100,\n",
       "       50000, 26700, 25000])"
      ]
     },
     "execution_count": 10,
     "metadata": {},
     "output_type": "execute_result"
    }
   ],
   "source": [
    "myArray = np.array(test_labels * 1000)\n",
    "myArray = myArray.astype(int)\n",
    "myArray"
   ]
  },
  {
   "cell_type": "markdown",
   "id": "48c3eec6",
   "metadata": {},
   "source": [
    "### テストデータで予測する"
   ]
  },
  {
   "cell_type": "code",
   "execution_count": 11,
   "id": "c5696f4f",
   "metadata": {},
   "outputs": [],
   "source": [
    "test_predictions = model.predict(test_data).flatten() "
   ]
  },
  {
   "cell_type": "code",
   "execution_count": 12,
   "id": "3db567e1",
   "metadata": {},
   "outputs": [
    {
     "data": {
      "text/plain": [
       "array([ 6945, 17991, 21353, 33486, 24141, 21840, 27688, 21395, 18655,\n",
       "       18448, 21992, 16100, 14709, 42943, 16936, 19782, 25132, 18713,\n",
       "       16970, 23542, 10393, 12634, 21656, 15469, 18606, 21837, 28256,\n",
       "       28418,  9583, 19302, 18573, 13355, 31716, 23377, 17647,  6534,\n",
       "       15586, 17207, 17462, 26126, 30220, 27492, 12068, 44834, 27030,\n",
       "       27220, 28059, 18138, 20326, 22274, 35547, 20934,  9024, 13200,\n",
       "       34358, 27454, 10941, 48286, 31883, 22942, 19866, 13959, 12405,\n",
       "       19132, 22892, 20357, 11564, 21774, 12320,  6803, 21688, 29336,\n",
       "       25913, 11850, 25969, 18552, 18940, 24000, 36310,  8848, 21474,\n",
       "       36651, 16332, 11413, 16786, 16731, 22731, 20980, 21531, 24313,\n",
       "       20124, 18870, 26199, 44783, 36515, 20075, 34147, 34010, 24948,\n",
       "       42965, 29457, 18305])"
      ]
     },
     "execution_count": 12,
     "metadata": {},
     "output_type": "execute_result"
    }
   ],
   "source": [
    "myArray = np.array(test_predictions * 1000)\n",
    "myArray = myArray.astype(int)\n",
    "myArray"
   ]
  },
  {
   "cell_type": "code",
   "execution_count": 41,
   "id": "fdcd18a7",
   "metadata": {},
   "outputs": [],
   "source": [
    "model.save('boston_housing2_model')"
   ]
  },
  {
   "cell_type": "code",
   "execution_count": null,
   "id": "3cfce501",
   "metadata": {},
   "outputs": [],
   "source": []
  }
 ],
 "metadata": {
  "kernelspec": {
   "display_name": "Python 3 (ipykernel)",
   "language": "python",
   "name": "python3"
  },
  "language_info": {
   "codemirror_mode": {
    "name": "ipython",
    "version": 3
   },
   "file_extension": ".py",
   "mimetype": "text/x-python",
   "name": "python",
   "nbconvert_exporter": "python",
   "pygments_lexer": "ipython3",
   "version": "3.7.7"
  }
 },
 "nbformat": 4,
 "nbformat_minor": 5
}
