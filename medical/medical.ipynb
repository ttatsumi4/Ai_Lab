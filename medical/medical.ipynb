{
 "cells": [
  {
   "cell_type": "markdown",
   "id": "9824621d",
   "metadata": {},
   "source": [
    "# 医療保険の費用帯予測\n",
    "～「医療データを使って保険の費用帯を予測しよう！」"
   ]
  },
  {
   "cell_type": "code",
   "execution_count": 54,
   "id": "f31bf834",
   "metadata": {},
   "outputs": [
    {
     "name": "stdout",
     "output_type": "stream",
     "text": [
      "Data Shapes\n",
      "Train: (1200, 8) Test: (800, 7) Sample: (800, 2)\n"
     ]
    }
   ],
   "source": [
    "import pandas as pd\n",
    "import numpy as np\n",
    "import keras\n",
    "from matplotlib import pyplot as plt\n",
    "\n",
    "train = pd.read_csv(\"./train.csv\")\n",
    "test = pd.read_csv(\"./test.csv\")\n",
    "sample = pd.read_csv(\"./sample_submit.csv\",header=None)\n",
    "print(\"Data Shapes\")\n",
    "print(\"Train:\",train.shape, \"Test:\",test.shape, \"Sample:\",sample.shape)"
   ]
  },
  {
   "cell_type": "markdown",
   "id": "cf66f155",
   "metadata": {},
   "source": [
    "### データセットの調査"
   ]
  },
  {
   "cell_type": "code",
   "execution_count": 55,
   "id": "c2b88ada",
   "metadata": {},
   "outputs": [
    {
     "name": "stdout",
     "output_type": "stream",
     "text": [
      "id          0\n",
      "age         0\n",
      "sex         0\n",
      "bmi         0\n",
      "children    0\n",
      "smoker      0\n",
      "region      0\n",
      "charges     0\n",
      "dtype: int64\n",
      "\n",
      "id          0\n",
      "age         0\n",
      "sex         0\n",
      "bmi         0\n",
      "children    0\n",
      "smoker      0\n",
      "region      0\n",
      "dtype: int64\n"
     ]
    }
   ],
   "source": [
    "print(train.isnull().sum())\n",
    "print()\n",
    "print(test.isnull().sum())"
   ]
  },
  {
   "cell_type": "code",
   "execution_count": 56,
   "id": "7ae5b2cb",
   "metadata": {},
   "outputs": [
    {
     "data": {
      "text/html": [
       "<div>\n",
       "<style scoped>\n",
       "    .dataframe tbody tr th:only-of-type {\n",
       "        vertical-align: middle;\n",
       "    }\n",
       "\n",
       "    .dataframe tbody tr th {\n",
       "        vertical-align: top;\n",
       "    }\n",
       "\n",
       "    .dataframe thead th {\n",
       "        text-align: right;\n",
       "    }\n",
       "</style>\n",
       "<table border=\"1\" class=\"dataframe\">\n",
       "  <thead>\n",
       "    <tr style=\"text-align: right;\">\n",
       "      <th></th>\n",
       "      <th>id</th>\n",
       "      <th>age</th>\n",
       "      <th>sex</th>\n",
       "      <th>bmi</th>\n",
       "      <th>children</th>\n",
       "      <th>smoker</th>\n",
       "      <th>region</th>\n",
       "      <th>charges</th>\n",
       "    </tr>\n",
       "  </thead>\n",
       "  <tbody>\n",
       "    <tr>\n",
       "      <th>0</th>\n",
       "      <td>1</td>\n",
       "      <td>45</td>\n",
       "      <td>male</td>\n",
       "      <td>46.561704</td>\n",
       "      <td>5</td>\n",
       "      <td>no</td>\n",
       "      <td>southeast</td>\n",
       "      <td>0</td>\n",
       "    </tr>\n",
       "    <tr>\n",
       "      <th>1</th>\n",
       "      <td>2</td>\n",
       "      <td>18</td>\n",
       "      <td>female</td>\n",
       "      <td>23.572081</td>\n",
       "      <td>3</td>\n",
       "      <td>no</td>\n",
       "      <td>southwest</td>\n",
       "      <td>0</td>\n",
       "    </tr>\n",
       "    <tr>\n",
       "      <th>2</th>\n",
       "      <td>4</td>\n",
       "      <td>28</td>\n",
       "      <td>female</td>\n",
       "      <td>38.670352</td>\n",
       "      <td>0</td>\n",
       "      <td>no</td>\n",
       "      <td>southeast</td>\n",
       "      <td>0</td>\n",
       "    </tr>\n",
       "    <tr>\n",
       "      <th>3</th>\n",
       "      <td>5</td>\n",
       "      <td>46</td>\n",
       "      <td>female</td>\n",
       "      <td>45.614196</td>\n",
       "      <td>0</td>\n",
       "      <td>no</td>\n",
       "      <td>southwest</td>\n",
       "      <td>0</td>\n",
       "    </tr>\n",
       "    <tr>\n",
       "      <th>4</th>\n",
       "      <td>10</td>\n",
       "      <td>27</td>\n",
       "      <td>male</td>\n",
       "      <td>38.769610</td>\n",
       "      <td>0</td>\n",
       "      <td>no</td>\n",
       "      <td>northeast</td>\n",
       "      <td>0</td>\n",
       "    </tr>\n",
       "  </tbody>\n",
       "</table>\n",
       "</div>"
      ],
      "text/plain": [
       "   id  age     sex        bmi  children smoker     region  charges\n",
       "0   1   45    male  46.561704         5     no  southeast        0\n",
       "1   2   18  female  23.572081         3     no  southwest        0\n",
       "2   4   28  female  38.670352         0     no  southeast        0\n",
       "3   5   46  female  45.614196         0     no  southwest        0\n",
       "4  10   27    male  38.769610         0     no  northeast        0"
      ]
     },
     "execution_count": 56,
     "metadata": {},
     "output_type": "execute_result"
    }
   ],
   "source": [
    "train.head()"
   ]
  },
  {
   "cell_type": "markdown",
   "id": "3398c06b",
   "metadata": {},
   "source": [
    "### 相関関係のなさそうな項目を削除"
   ]
  },
  {
   "cell_type": "code",
   "execution_count": 57,
   "id": "63957cd9",
   "metadata": {},
   "outputs": [
    {
     "name": "stdout",
     "output_type": "stream",
     "text": [
      "   age        bmi  children smoker  charges\n",
      "0   45  46.561704         5     no        0\n",
      "1   18  23.572081         3     no        0\n",
      "2   28  38.670352         0     no        0\n",
      "3   46  45.614196         0     no        0\n",
      "4   27  38.769610         0     no        0\n",
      "   age        bmi  children smoker\n",
      "0   28  32.694647         3     no\n",
      "1   22  29.606817         0     no\n",
      "2   38  33.567011         2    yes\n",
      "3   22  29.216607         0     no\n",
      "4   47  32.982643         3    yes\n"
     ]
    }
   ],
   "source": [
    "train = train.drop(columns=[\"id\",\"sex\",\"region\"])\n",
    "test = test.drop(columns=[\"id\",\"sex\",\"region\"])\n",
    "print(train.head())\n",
    "print(test.head())"
   ]
  },
  {
   "cell_type": "markdown",
   "id": "62c875b4",
   "metadata": {},
   "source": [
    "### カテゴリ変数をダミー変数に変換"
   ]
  },
  {
   "cell_type": "code",
   "execution_count": 58,
   "id": "962d6980",
   "metadata": {},
   "outputs": [
    {
     "data": {
      "text/html": [
       "<div>\n",
       "<style scoped>\n",
       "    .dataframe tbody tr th:only-of-type {\n",
       "        vertical-align: middle;\n",
       "    }\n",
       "\n",
       "    .dataframe tbody tr th {\n",
       "        vertical-align: top;\n",
       "    }\n",
       "\n",
       "    .dataframe thead th {\n",
       "        text-align: right;\n",
       "    }\n",
       "</style>\n",
       "<table border=\"1\" class=\"dataframe\">\n",
       "  <thead>\n",
       "    <tr style=\"text-align: right;\">\n",
       "      <th></th>\n",
       "      <th>age</th>\n",
       "      <th>bmi</th>\n",
       "      <th>children</th>\n",
       "      <th>charges</th>\n",
       "      <th>smoker_no</th>\n",
       "      <th>smoker_yes</th>\n",
       "    </tr>\n",
       "  </thead>\n",
       "  <tbody>\n",
       "    <tr>\n",
       "      <th>0</th>\n",
       "      <td>45</td>\n",
       "      <td>46.561704</td>\n",
       "      <td>5</td>\n",
       "      <td>0</td>\n",
       "      <td>1</td>\n",
       "      <td>0</td>\n",
       "    </tr>\n",
       "    <tr>\n",
       "      <th>1</th>\n",
       "      <td>18</td>\n",
       "      <td>23.572081</td>\n",
       "      <td>3</td>\n",
       "      <td>0</td>\n",
       "      <td>1</td>\n",
       "      <td>0</td>\n",
       "    </tr>\n",
       "    <tr>\n",
       "      <th>2</th>\n",
       "      <td>28</td>\n",
       "      <td>38.670352</td>\n",
       "      <td>0</td>\n",
       "      <td>0</td>\n",
       "      <td>1</td>\n",
       "      <td>0</td>\n",
       "    </tr>\n",
       "    <tr>\n",
       "      <th>3</th>\n",
       "      <td>46</td>\n",
       "      <td>45.614196</td>\n",
       "      <td>0</td>\n",
       "      <td>0</td>\n",
       "      <td>1</td>\n",
       "      <td>0</td>\n",
       "    </tr>\n",
       "    <tr>\n",
       "      <th>4</th>\n",
       "      <td>27</td>\n",
       "      <td>38.769610</td>\n",
       "      <td>0</td>\n",
       "      <td>0</td>\n",
       "      <td>1</td>\n",
       "      <td>0</td>\n",
       "    </tr>\n",
       "  </tbody>\n",
       "</table>\n",
       "</div>"
      ],
      "text/plain": [
       "   age        bmi  children  charges  smoker_no  smoker_yes\n",
       "0   45  46.561704         5        0          1           0\n",
       "1   18  23.572081         3        0          1           0\n",
       "2   28  38.670352         0        0          1           0\n",
       "3   46  45.614196         0        0          1           0\n",
       "4   27  38.769610         0        0          1           0"
      ]
     },
     "execution_count": 58,
     "metadata": {},
     "output_type": "execute_result"
    }
   ],
   "source": [
    "train = pd.get_dummies(train)\n",
    "test = pd.get_dummies(test)\n",
    "train.head()"
   ]
  },
  {
   "cell_type": "code",
   "execution_count": 59,
   "id": "8d94b20b",
   "metadata": {},
   "outputs": [
    {
     "data": {
      "text/html": [
       "<div>\n",
       "<style scoped>\n",
       "    .dataframe tbody tr th:only-of-type {\n",
       "        vertical-align: middle;\n",
       "    }\n",
       "\n",
       "    .dataframe tbody tr th {\n",
       "        vertical-align: top;\n",
       "    }\n",
       "\n",
       "    .dataframe thead th {\n",
       "        text-align: right;\n",
       "    }\n",
       "</style>\n",
       "<table border=\"1\" class=\"dataframe\">\n",
       "  <thead>\n",
       "    <tr style=\"text-align: right;\">\n",
       "      <th></th>\n",
       "      <th>age</th>\n",
       "      <th>bmi</th>\n",
       "      <th>children</th>\n",
       "      <th>smoker_no</th>\n",
       "      <th>smoker_yes</th>\n",
       "    </tr>\n",
       "  </thead>\n",
       "  <tbody>\n",
       "    <tr>\n",
       "      <th>0</th>\n",
       "      <td>28</td>\n",
       "      <td>32.694647</td>\n",
       "      <td>3</td>\n",
       "      <td>1</td>\n",
       "      <td>0</td>\n",
       "    </tr>\n",
       "    <tr>\n",
       "      <th>1</th>\n",
       "      <td>22</td>\n",
       "      <td>29.606817</td>\n",
       "      <td>0</td>\n",
       "      <td>1</td>\n",
       "      <td>0</td>\n",
       "    </tr>\n",
       "    <tr>\n",
       "      <th>2</th>\n",
       "      <td>38</td>\n",
       "      <td>33.567011</td>\n",
       "      <td>2</td>\n",
       "      <td>0</td>\n",
       "      <td>1</td>\n",
       "    </tr>\n",
       "    <tr>\n",
       "      <th>3</th>\n",
       "      <td>22</td>\n",
       "      <td>29.216607</td>\n",
       "      <td>0</td>\n",
       "      <td>1</td>\n",
       "      <td>0</td>\n",
       "    </tr>\n",
       "    <tr>\n",
       "      <th>4</th>\n",
       "      <td>47</td>\n",
       "      <td>32.982643</td>\n",
       "      <td>3</td>\n",
       "      <td>0</td>\n",
       "      <td>1</td>\n",
       "    </tr>\n",
       "  </tbody>\n",
       "</table>\n",
       "</div>"
      ],
      "text/plain": [
       "   age        bmi  children  smoker_no  smoker_yes\n",
       "0   28  32.694647         3          1           0\n",
       "1   22  29.606817         0          1           0\n",
       "2   38  33.567011         2          0           1\n",
       "3   22  29.216607         0          1           0\n",
       "4   47  32.982643         3          0           1"
      ]
     },
     "execution_count": 59,
     "metadata": {},
     "output_type": "execute_result"
    }
   ],
   "source": [
    "test.head()"
   ]
  },
  {
   "cell_type": "markdown",
   "id": "be31494b",
   "metadata": {},
   "source": [
    "### 目的変数の抽出"
   ]
  },
  {
   "cell_type": "code",
   "execution_count": 60,
   "id": "9ce28eee",
   "metadata": {},
   "outputs": [
    {
     "name": "stdout",
     "output_type": "stream",
     "text": [
      "[0 0 0 ... 0 0 0]\n",
      "\n",
      "[[1. 0. 0.]\n",
      " [1. 0. 0.]\n",
      " [1. 0. 0.]\n",
      " ...\n",
      " [1. 0. 0.]\n",
      " [1. 0. 0.]\n",
      " [1. 0. 0.]]\n"
     ]
    }
   ],
   "source": [
    "y = train[\"charges\"].values\n",
    "print(y)\n",
    "print()\n",
    "#ONE-HOTに変換\n",
    "y = keras.utils.to_categorical(y)\n",
    "print(y)"
   ]
  },
  {
   "cell_type": "markdown",
   "id": "a0f294b1",
   "metadata": {},
   "source": [
    "### 不要カラムの削除"
   ]
  },
  {
   "cell_type": "code",
   "execution_count": 61,
   "id": "925864ee",
   "metadata": {},
   "outputs": [
    {
     "data": {
      "text/html": [
       "<div>\n",
       "<style scoped>\n",
       "    .dataframe tbody tr th:only-of-type {\n",
       "        vertical-align: middle;\n",
       "    }\n",
       "\n",
       "    .dataframe tbody tr th {\n",
       "        vertical-align: top;\n",
       "    }\n",
       "\n",
       "    .dataframe thead th {\n",
       "        text-align: right;\n",
       "    }\n",
       "</style>\n",
       "<table border=\"1\" class=\"dataframe\">\n",
       "  <thead>\n",
       "    <tr style=\"text-align: right;\">\n",
       "      <th></th>\n",
       "      <th>age</th>\n",
       "      <th>bmi</th>\n",
       "      <th>children</th>\n",
       "      <th>smoker_no</th>\n",
       "      <th>smoker_yes</th>\n",
       "    </tr>\n",
       "  </thead>\n",
       "  <tbody>\n",
       "    <tr>\n",
       "      <th>0</th>\n",
       "      <td>45</td>\n",
       "      <td>46.561704</td>\n",
       "      <td>5</td>\n",
       "      <td>1</td>\n",
       "      <td>0</td>\n",
       "    </tr>\n",
       "    <tr>\n",
       "      <th>1</th>\n",
       "      <td>18</td>\n",
       "      <td>23.572081</td>\n",
       "      <td>3</td>\n",
       "      <td>1</td>\n",
       "      <td>0</td>\n",
       "    </tr>\n",
       "    <tr>\n",
       "      <th>2</th>\n",
       "      <td>28</td>\n",
       "      <td>38.670352</td>\n",
       "      <td>0</td>\n",
       "      <td>1</td>\n",
       "      <td>0</td>\n",
       "    </tr>\n",
       "    <tr>\n",
       "      <th>3</th>\n",
       "      <td>46</td>\n",
       "      <td>45.614196</td>\n",
       "      <td>0</td>\n",
       "      <td>1</td>\n",
       "      <td>0</td>\n",
       "    </tr>\n",
       "    <tr>\n",
       "      <th>4</th>\n",
       "      <td>27</td>\n",
       "      <td>38.769610</td>\n",
       "      <td>0</td>\n",
       "      <td>1</td>\n",
       "      <td>0</td>\n",
       "    </tr>\n",
       "  </tbody>\n",
       "</table>\n",
       "</div>"
      ],
      "text/plain": [
       "   age        bmi  children  smoker_no  smoker_yes\n",
       "0   45  46.561704         5          1           0\n",
       "1   18  23.572081         3          1           0\n",
       "2   28  38.670352         0          1           0\n",
       "3   46  45.614196         0          1           0\n",
       "4   27  38.769610         0          1           0"
      ]
     },
     "execution_count": 61,
     "metadata": {},
     "output_type": "execute_result"
    }
   ],
   "source": [
    "train = train.drop(columns=[\"charges\"])\n",
    "train.head()"
   ]
  },
  {
   "cell_type": "code",
   "execution_count": 62,
   "id": "5896f0d7",
   "metadata": {},
   "outputs": [],
   "source": [
    "train_data = train.values\n",
    "train_labels = y\n",
    "test_data = test.values\n"
   ]
  },
  {
   "cell_type": "markdown",
   "id": "928841d5",
   "metadata": {},
   "source": [
    "### 正規化"
   ]
  },
  {
   "cell_type": "code",
   "execution_count": 63,
   "id": "2f6bbf90",
   "metadata": {},
   "outputs": [],
   "source": [
    "mean = train_data.mean(axis=0)\n",
    "std = train_data.std(axis=0)\n",
    "train_data = (train_data - mean) / std\n",
    "test_data = (test_data - mean) / std\n"
   ]
  },
  {
   "cell_type": "markdown",
   "id": "0ec9d1de",
   "metadata": {},
   "source": [
    "### モデルの構築"
   ]
  },
  {
   "cell_type": "code",
   "execution_count": 64,
   "id": "5f753710",
   "metadata": {},
   "outputs": [],
   "source": [
    "from keras.models import Sequential\n",
    "from keras.layers import Dense\n",
    "from keras.layers import Dropout\n",
    "\n",
    "model = Sequential()\n",
    "model.add(Dense(512, activation='relu', input_shape=(train_data.shape[1],)))\n",
    "model.add(Dense(512, activation='relu'))\n",
    "model.add(Dense(3, activation='softmax'))\n",
    "\n",
    "#model.compile(optimizer='adam', \n",
    "#              loss='mse', \n",
    "#              metrics=['mae'])\n",
    "#model.compile(loss='categorical_crossentropy', optimizer='adam', metrics=['accuracy'])\n",
    "model.compile(loss='categorical_crossentropy', \n",
    "              optimizer='adam',\n",
    "              metrics=['accuracy'])"
   ]
  },
  {
   "cell_type": "markdown",
   "id": "91671e8a",
   "metadata": {},
   "source": [
    "### 学習"
   ]
  },
  {
   "cell_type": "code",
   "execution_count": 65,
   "id": "695112c2",
   "metadata": {},
   "outputs": [
    {
     "name": "stdout",
     "output_type": "stream",
     "text": [
      "Train on 960 samples, validate on 240 samples\n",
      "Epoch 1/200\n",
      "960/960 [==============================] - 0s 174us/step - loss: 0.4562 - accuracy: 0.9073 - val_loss: 0.3447 - val_accuracy: 0.9042\n",
      "\n",
      ".Epoch 2/200\n",
      "960/960 [==============================] - 0s 102us/step - loss: 0.2739 - accuracy: 0.9344 - val_loss: 0.3014 - val_accuracy: 0.9042\n",
      ".Epoch 3/200\n",
      "960/960 [==============================] - 0s 99us/step - loss: 0.2508 - accuracy: 0.9271 - val_loss: 0.3144 - val_accuracy: 0.9042\n",
      ".Epoch 4/200\n",
      "960/960 [==============================] - 0s 45us/step - loss: 0.2382 - accuracy: 0.9260 - val_loss: 0.3227 - val_accuracy: 0.9000\n",
      ".Epoch 5/200\n",
      "960/960 [==============================] - 0s 28us/step - loss: 0.2339 - accuracy: 0.9323 - val_loss: 0.3209 - val_accuracy: 0.9083\n",
      ".Epoch 6/200\n",
      "960/960 [==============================] - 0s 29us/step - loss: 0.2254 - accuracy: 0.9333 - val_loss: 0.3249 - val_accuracy: 0.9042\n",
      ".Epoch 7/200\n",
      "960/960 [==============================] - 0s 29us/step - loss: 0.2275 - accuracy: 0.9344 - val_loss: 0.3292 - val_accuracy: 0.9083\n",
      ".Epoch 8/200\n",
      "960/960 [==============================] - 0s 28us/step - loss: 0.2280 - accuracy: 0.9333 - val_loss: 0.3230 - val_accuracy: 0.9083\n",
      ".Epoch 9/200\n",
      "960/960 [==============================] - 0s 29us/step - loss: 0.2241 - accuracy: 0.9302 - val_loss: 0.3359 - val_accuracy: 0.9042\n",
      ".Epoch 10/200\n",
      "960/960 [==============================] - 0s 28us/step - loss: 0.2192 - accuracy: 0.9323 - val_loss: 0.3289 - val_accuracy: 0.9042\n",
      ".Epoch 11/200\n",
      "960/960 [==============================] - 0s 28us/step - loss: 0.2175 - accuracy: 0.9344 - val_loss: 0.3324 - val_accuracy: 0.9042\n",
      ".Epoch 12/200\n",
      "960/960 [==============================] - 0s 28us/step - loss: 0.2178 - accuracy: 0.9344 - val_loss: 0.3432 - val_accuracy: 0.9042\n",
      ".Epoch 13/200\n",
      "960/960 [==============================] - 0s 28us/step - loss: 0.2213 - accuracy: 0.9333 - val_loss: 0.3371 - val_accuracy: 0.9083\n",
      ".Epoch 14/200\n",
      "960/960 [==============================] - 0s 29us/step - loss: 0.2148 - accuracy: 0.9344 - val_loss: 0.3415 - val_accuracy: 0.9083\n",
      ".Epoch 15/200\n",
      "960/960 [==============================] - 0s 29us/step - loss: 0.2107 - accuracy: 0.9333 - val_loss: 0.3426 - val_accuracy: 0.9042\n",
      ".Epoch 16/200\n",
      "960/960 [==============================] - 0s 29us/step - loss: 0.2127 - accuracy: 0.9344 - val_loss: 0.3486 - val_accuracy: 0.9042\n",
      ".Epoch 17/200\n",
      "960/960 [==============================] - 0s 28us/step - loss: 0.2119 - accuracy: 0.9344 - val_loss: 0.3474 - val_accuracy: 0.9042\n",
      ".Epoch 18/200\n",
      "960/960 [==============================] - 0s 29us/step - loss: 0.2152 - accuracy: 0.9354 - val_loss: 0.3548 - val_accuracy: 0.9042\n",
      ".Epoch 19/200\n",
      "960/960 [==============================] - 0s 28us/step - loss: 0.2082 - accuracy: 0.9323 - val_loss: 0.3534 - val_accuracy: 0.9042\n",
      ".Epoch 20/200\n",
      "960/960 [==============================] - 0s 29us/step - loss: 0.2039 - accuracy: 0.9344 - val_loss: 0.3565 - val_accuracy: 0.9042\n",
      ".Epoch 21/200\n",
      "960/960 [==============================] - 0s 30us/step - loss: 0.2046 - accuracy: 0.9333 - val_loss: 0.3608 - val_accuracy: 0.9042\n",
      ".Epoch 22/200\n",
      "960/960 [==============================] - 0s 30us/step - loss: 0.2043 - accuracy: 0.9354 - val_loss: 0.3506 - val_accuracy: 0.9083\n",
      "."
     ]
    }
   ],
   "source": [
    "from tensorflow import keras\n",
    "\n",
    "# 完了したエポックごとに1つのドットを印刷して、トレーニングの進捗状況を表示する\n",
    "class PrintDot(keras.callbacks.Callback):\n",
    "  def on_epoch_end(self,epoch,logs):\n",
    "    if epoch % 100 == 0: print('')\n",
    "    print('.', end='')\n",
    "\n",
    "early_stop = keras.callbacks.EarlyStopping(monitor='val_loss', patience=20)\n",
    "\n",
    "# 学習データ(train_data)のうち、20％が検証データ（validation）として使用される    \n",
    "history = model.fit(train_data, \n",
    "                    train_labels,\n",
    "                    batch_size=64,\n",
    "                    epochs=200,\n",
    "                    validation_split=0.2,\n",
    "                    callbacks=[early_stop,PrintDot()]) "
   ]
  },
  {
   "cell_type": "code",
   "execution_count": 42,
   "id": "c895d5b0",
   "metadata": {},
   "outputs": [
    {
     "data": {
      "text/plain": [
       "<matplotlib.legend.Legend at 0x1ec73477fc8>"
      ]
     },
     "execution_count": 42,
     "metadata": {},
     "output_type": "execute_result"
    },
    {
     "data": {
      "image/png": "[encoded data removed]",
      "text/plain": [
       "<Figure size 432x288 with 1 Axes>"
      ]
     },
     "metadata": {
      "needs_background": "light"
     },
     "output_type": "display_data"
    }
   ],
   "source": [
    "import matplotlib.pyplot as plt\n",
    "\n",
    "plt.plot(history.epoch, history.history[\"accuracy\"], label=\"acc\")\n",
    "plt.plot(history.epoch, history.history[\"loss\"], label=\"loss\")\n",
    "plt.plot(history.epoch, history.history[\"val_accuracy\"], label=\"val_acc\")\n",
    "plt.plot(history.epoch, history.history[\"val_loss\"], label=\"val_loss\")\n",
    "plt.xlabel(\"epoch\")\n",
    "plt.legend()"
   ]
  },
  {
   "cell_type": "markdown",
   "id": "cb568068",
   "metadata": {},
   "source": [
    "### 予測"
   ]
  },
  {
   "cell_type": "code",
   "execution_count": 43,
   "id": "5a3cfe6b",
   "metadata": {},
   "outputs": [
    {
     "name": "stdout",
     "output_type": "stream",
     "text": [
      "[0 0 1 0 1 0 0 0 2 2 0 0 0 0 0 0 0 2 0 0 0 0 0 2 0 0 1 0 0 0 0 1 0 0 0 2 0\n",
      " 0 0 0 0 0 2 1 0 0 0 0 0 0 0 0 0 0 0 0 0 0 0 0 2 0 1 0 0 1 1 0 0 0 0 2 1 0\n",
      " 0 0 0 0 2 0 0 0 0 0 0 0 0 0 0 0 0 0 2 0 1 0 0 0 0 0 0 0 0 0 1 0 0 0 0 0 0\n",
      " 1 0 2 0 2 0 2 0 0 0 2 0 1 1 1 0 0 0 0 0 0 1 0 0 0 0 0 0 0 0 0 0 0 0 0 2 0\n",
      " 0 0 0 0 0 0 0 0 0 0 0 1 0 0 0 0 1 0 0 0 0 0 0 0 0 0 2 0 0 0 0 0 0 0 1 0 0\n",
      " 1 0 0 0 0 1 0 0 1 0 0 0 0 0 0 0 0 0 0 0 0 0 0 0 0 0 0 0 0 1 2 0 0 0 0 0 0\n",
      " 0 0 0 0 0 0 0 0 0 0 1 0 0 0 0 0 0 0 0 2 0 0 2 0 0 0 2 0 0 2 0 1 0 1 2 0 0\n",
      " 0 2 0 1 0 1 1 0 0 0 0 0 0 2 0 0 0 0 1 0 0 0 0 0 0 0 0 0 0 0 0 0 1 0 0 0 0\n",
      " 0 0 0 0 0 0 2 0 0 1 0 2 0 0 0 0 0 0 0 2 1 0 0 0 1 0 0 0 1 0 0 1 0 1 1 0 0\n",
      " 2 0 0 0 0 0 0 0 0 0 0 2 0 0 0 0 0 1 2 0 0 0 0 0 0 0 0 2 0 0 0 0 0 0 0 0 0\n",
      " 1 0 0 0 0 0 0 0 0 0 0 0 0 0 1 0 0 0 0 2 0 2 0 0 0 2 0 0 0 0 0 0 2 0 0 0 0\n",
      " 1 2 0 0 0 1 0 0 0 0 0 0 0 0 0 0 2 0 0 0 0 0 0 0 0 0 0 0 0 0 0 2 0 0 0 0 0\n",
      " 0 0 0 1 1 0 0 0 0 0 0 0 0 0 2 1 0 0 0 0 0 0 0 0 0 0 0 0 0 0 0 1 0 0 0 0 2\n",
      " 0 0 2 0 0 0 0 0 0 0 2 2 0 0 0 0 0 0 0 0 0 0 0 2 0 0 0 0 0 0 0 0 0 0 0 0 1\n",
      " 0 0 0 1 0 0 0 0 0 1 0 0 0 0 0 0 0 1 0 0 0 2 0 0 0 0 0 0 1 0 0 0 0 0 0 0 0\n",
      " 0 0 0 0 2 0 0 0 0 0 0 0 0 0 1 1 0 2 0 0 0 2 0 0 0 1 0 0 0 2 0 0 1 1 0 0 0\n",
      " 0 0 1 0 2 0 1 0 0 0 0 0 0 0 1 0 0 0 0 0 0 0 2 0 0 0 0 0 0 0 0 0 0 0 0 0 1\n",
      " 0 0 0 1 0 0 1 0 0 0 0 0 0 0 0 0 0 0 0 0 0 0 0 0 0 0 0 0 2 2 0 0 0 0 0 0 0\n",
      " 0 0 0 1 0 0 0 0 0 0 0 2 0 2 0 0 0 0 0 0 0 1 0 0 0 0 0 0 0 0 0 0 0 0 0 0 0\n",
      " 0 0 0 0 0 0 0 0 0 2 2 0 0 0 0 0 0 0 0 0 1 0 0 0 1 0 2 0 1 0 0 0 0 0 0 0 0\n",
      " 0 0 0 1 0 1 0 0 0 0 0 0 1 0 0 0 0 0 0 0 0 0 2 0 0 0 0 0 0 0 0 0 0 2 2 0 0\n",
      " 0 0 0 0 0 0 0 0 0 0 0 0 0 0 0 0 0 0 0 0 0 1 0]\n"
     ]
    }
   ],
   "source": [
    "test_predictions = model.predict(test_data)\n",
    "#最大値のインデックス\n",
    "k = np.argmax(test_predictions,axis=1)\n",
    "print(k)"
   ]
  },
  {
   "cell_type": "code",
   "execution_count": 44,
   "id": "9084f7c6",
   "metadata": {},
   "outputs": [
    {
     "data": {
      "text/html": [
       "<div>\n",
       "<style scoped>\n",
       "    .dataframe tbody tr th:only-of-type {\n",
       "        vertical-align: middle;\n",
       "    }\n",
       "\n",
       "    .dataframe tbody tr th {\n",
       "        vertical-align: top;\n",
       "    }\n",
       "\n",
       "    .dataframe thead th {\n",
       "        text-align: right;\n",
       "    }\n",
       "</style>\n",
       "<table border=\"1\" class=\"dataframe\">\n",
       "  <thead>\n",
       "    <tr style=\"text-align: right;\">\n",
       "      <th></th>\n",
       "      <th>0</th>\n",
       "      <th>1</th>\n",
       "    </tr>\n",
       "  </thead>\n",
       "  <tbody>\n",
       "    <tr>\n",
       "      <th>0</th>\n",
       "      <td>0</td>\n",
       "      <td>0</td>\n",
       "    </tr>\n",
       "    <tr>\n",
       "      <th>1</th>\n",
       "      <td>3</td>\n",
       "      <td>0</td>\n",
       "    </tr>\n",
       "    <tr>\n",
       "      <th>2</th>\n",
       "      <td>6</td>\n",
       "      <td>1</td>\n",
       "    </tr>\n",
       "    <tr>\n",
       "      <th>3</th>\n",
       "      <td>7</td>\n",
       "      <td>0</td>\n",
       "    </tr>\n",
       "    <tr>\n",
       "      <th>4</th>\n",
       "      <td>8</td>\n",
       "      <td>1</td>\n",
       "    </tr>\n",
       "    <tr>\n",
       "      <th>...</th>\n",
       "      <td>...</td>\n",
       "      <td>...</td>\n",
       "    </tr>\n",
       "    <tr>\n",
       "      <th>795</th>\n",
       "      <td>1979</td>\n",
       "      <td>0</td>\n",
       "    </tr>\n",
       "    <tr>\n",
       "      <th>796</th>\n",
       "      <td>1983</td>\n",
       "      <td>0</td>\n",
       "    </tr>\n",
       "    <tr>\n",
       "      <th>797</th>\n",
       "      <td>1985</td>\n",
       "      <td>0</td>\n",
       "    </tr>\n",
       "    <tr>\n",
       "      <th>798</th>\n",
       "      <td>1989</td>\n",
       "      <td>1</td>\n",
       "    </tr>\n",
       "    <tr>\n",
       "      <th>799</th>\n",
       "      <td>1995</td>\n",
       "      <td>0</td>\n",
       "    </tr>\n",
       "  </tbody>\n",
       "</table>\n",
       "<p>800 rows × 2 columns</p>\n",
       "</div>"
      ],
      "text/plain": [
       "        0  1\n",
       "0       0  0\n",
       "1       3  0\n",
       "2       6  1\n",
       "3       7  0\n",
       "4       8  1\n",
       "..    ... ..\n",
       "795  1979  0\n",
       "796  1983  0\n",
       "797  1985  0\n",
       "798  1989  1\n",
       "799  1995  0\n",
       "\n",
       "[800 rows x 2 columns]"
      ]
     },
     "execution_count": 44,
     "metadata": {},
     "output_type": "execute_result"
    }
   ],
   "source": [
    "sample[1] = k\n",
    "sample"
   ]
  },
  {
   "cell_type": "markdown",
   "id": "7f4e55d0",
   "metadata": {},
   "source": [
    "### ファイル出力"
   ]
  },
  {
   "cell_type": "code",
   "execution_count": 45,
   "id": "75ffba4c",
   "metadata": {},
   "outputs": [],
   "source": [
    "import csv\n",
    "f = open('out.csv','w',newline='')\n",
    "writer = csv.writer(f)\n",
    "writer.writerows(sample.values)\n",
    "f.close()"
   ]
  },
  {
   "cell_type": "code",
   "execution_count": 46,
   "id": "4ffdbdd6",
   "metadata": {},
   "outputs": [],
   "source": [
    "model.save('medical_model')"
   ]
  },
  {
   "cell_type": "code",
   "execution_count": null,
   "id": "8319bd4b",
   "metadata": {},
   "outputs": [],
   "source": []
  }
 ],
 "metadata": {
  "kernelspec": {
   "display_name": "Python 3 (ipykernel)",
   "language": "python",
   "name": "python3"
  },
  "language_info": {
   "codemirror_mode": {
    "name": "ipython",
    "version": 3
   },
   "file_extension": ".py",
   "mimetype": "text/x-python",
   "name": "python",
   "nbconvert_exporter": "python",
   "pygments_lexer": "ipython3",
   "version": "3.7.7"
  }
 },
 "nbformat": 4,
 "nbformat_minor": 5
}
